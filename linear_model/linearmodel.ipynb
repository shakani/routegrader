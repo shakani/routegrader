{
 "cells": [
  {
   "cell_type": "markdown",
   "metadata": {},
   "source": [
    "# Linear Regression"
   ]
  },
  {
   "cell_type": "markdown",
   "metadata": {},
   "source": [
    "## Imports"
   ]
  },
  {
   "cell_type": "code",
   "execution_count": 91,
   "metadata": {},
   "outputs": [],
   "source": [
    "import numpy as np\n",
    "import pandas as pd \n",
    "import seaborn as sns\n",
    "sns.set_style('darkgrid')\n",
    "import sklearn"
   ]
  },
  {
   "cell_type": "code",
   "execution_count": 75,
   "metadata": {},
   "outputs": [
    {
     "data": {
      "text/html": [
       "<div>\n",
       "<style scoped>\n",
       "    .dataframe tbody tr th:only-of-type {\n",
       "        vertical-align: middle;\n",
       "    }\n",
       "\n",
       "    .dataframe tbody tr th {\n",
       "        vertical-align: top;\n",
       "    }\n",
       "\n",
       "    .dataframe thead th {\n",
       "        text-align: right;\n",
       "    }\n",
       "</style>\n",
       "<table border=\"1\" class=\"dataframe\">\n",
       "  <thead>\n",
       "    <tr style=\"text-align: right;\">\n",
       "      <th></th>\n",
       "      <th>holds</th>\n",
       "      <th>grades</th>\n",
       "      <th>year</th>\n",
       "      <th>angle</th>\n",
       "    </tr>\n",
       "  </thead>\n",
       "  <tbody>\n",
       "    <tr>\n",
       "      <th>0</th>\n",
       "      <td>[('A18', 'end'), ('C10', 'hold'), ('D15', 'hol...</td>\n",
       "      <td>7B</td>\n",
       "      <td>2016</td>\n",
       "      <td>40</td>\n",
       "    </tr>\n",
       "    <tr>\n",
       "      <th>1</th>\n",
       "      <td>[('E18', 'end'), ('F13', 'hold'), ('G6', 'star...</td>\n",
       "      <td>7B</td>\n",
       "      <td>2016</td>\n",
       "      <td>40</td>\n",
       "    </tr>\n",
       "    <tr>\n",
       "      <th>2</th>\n",
       "      <td>[('E18', 'end'), ('F14', 'hold'), ('F9', 'hold...</td>\n",
       "      <td>7B</td>\n",
       "      <td>2016</td>\n",
       "      <td>40</td>\n",
       "    </tr>\n",
       "    <tr>\n",
       "      <th>3</th>\n",
       "      <td>[('B3', 'start'), ('E10', 'hold'), ('F7', 'hol...</td>\n",
       "      <td>7B</td>\n",
       "      <td>2016</td>\n",
       "      <td>40</td>\n",
       "    </tr>\n",
       "    <tr>\n",
       "      <th>4</th>\n",
       "      <td>[('D10', 'hold'), ('H18', 'end'), ('H14', 'hol...</td>\n",
       "      <td>7B</td>\n",
       "      <td>2016</td>\n",
       "      <td>40</td>\n",
       "    </tr>\n",
       "  </tbody>\n",
       "</table>\n",
       "</div>"
      ],
      "text/plain": [
       "                                               holds grades  year  angle\n",
       "0  [('A18', 'end'), ('C10', 'hold'), ('D15', 'hol...     7B  2016     40\n",
       "1  [('E18', 'end'), ('F13', 'hold'), ('G6', 'star...     7B  2016     40\n",
       "2  [('E18', 'end'), ('F14', 'hold'), ('F9', 'hold...     7B  2016     40\n",
       "3  [('B3', 'start'), ('E10', 'hold'), ('F7', 'hol...     7B  2016     40\n",
       "4  [('D10', 'hold'), ('H18', 'end'), ('H14', 'hol...     7B  2016     40"
      ]
     },
     "execution_count": 75,
     "metadata": {},
     "output_type": "execute_result"
    }
   ],
   "source": [
    "df = pd.read_csv('../webscraping/moonboard_data.csv', index_col=0)\n",
    "df = df.dropna()\n",
    "df.head()"
   ]
  },
  {
   "cell_type": "code",
   "execution_count": 81,
   "metadata": {},
   "outputs": [
    {
     "data": {
      "text/plain": [
       "<Axes: xlabel='grades', ylabel='Count'>"
      ]
     },
     "execution_count": 81,
     "metadata": {},
     "output_type": "execute_result"
    },
    {
     "data": {
      "image/png": "[encoded data removed]",
      "text/plain": [
       "<Figure size 640x480 with 1 Axes>"
      ]
     },
     "metadata": {},
     "output_type": "display_data"
    }
   ],
   "source": [
    "sns.histplot(data=df.sort_values('grades'), x='grades')"
   ]
  },
  {
   "cell_type": "code",
   "execution_count": 95,
   "metadata": {},
   "outputs": [
    {
     "data": {
      "text/plain": [
       "array([[ 0.84634199],\n",
       "       [ 0.84634199],\n",
       "       [ 0.84634199],\n",
       "       ...,\n",
       "       [-0.11039928],\n",
       "       [-0.11039928],\n",
       "       [-0.11039928]])"
      ]
     },
     "execution_count": 95,
     "metadata": {},
     "output_type": "execute_result"
    }
   ],
   "source": [
    "sorted_grades = sorted(df['grades'].unique())\n",
    "report_card = {grade: i for i, grade in enumerate(sorted_grades)}\n",
    "\n",
    "df['grades_numeric'] = df['grades'].apply(lambda g: report_card[g]) # parse grades to numeric value\n",
    "\n",
    "ss = sklearn.preprocessing.StandardScaler()\n",
    "ss.fit_transform(df[['grades_numeric']])"
   ]
  },
  {
   "cell_type": "markdown",
   "metadata": {},
   "source": [
    "## Encoding holds as dictionary\n",
    "Here we create a custom transformer which:\n",
    "- drops null values from the `DataFrame`\n",
    "- parses the string of holds into a list of holds\n",
    "- encodes holds as a dictionary we can pass to `DictVectorizer`"
   ]
  },
  {
   "cell_type": "code",
   "execution_count": 55,
   "metadata": {},
   "outputs": [],
   "source": [
    "from sklearn.base import BaseEstimator\n",
    "from sklearn.base import TransformerMixin \n",
    "from typing import List\n",
    "\n",
    "class DictEncoder(BaseEstimator, TransformerMixin):\n",
    "    def fit(self, X: pd.DataFrame, y=None):\n",
    "        return self\n",
    "    \n",
    "    def parseList(self, holdlist: List[str]):\n",
    "        \"\"\" Parses a list of holds into a dicionary of the form {hold : 1} \"\"\"\n",
    "        return {hold : 1 for hold, color in holdlist}\n",
    "    \n",
    "    def transform(self, X: pd.DataFrame):\n",
    "        \"\"\"\n",
    "        Encodes a list of holds into a dictionary of key, value pairs where\n",
    "        each key is a hold of the form [column index A-K][row index 1-18]\n",
    "        and each value is 1\n",
    "        \"\"\"\n",
    "        X = X.dropna() # first drop missing values (problem no longer exists)\n",
    "        X['holds'] = X['holds'].apply(lambda holdlist: self.parseList(eval(holdlist))) # parse strings to list of holds\n",
    "        return X['holds']"
   ]
  },
  {
   "cell_type": "code",
   "execution_count": 102,
   "metadata": {},
   "outputs": [],
   "source": [
    "nums = list(range(6,9))\n",
    "letters = 'ABC'\n",
    "modifiers = ['', '+']\n",
    "\n",
    "def getdict():\n",
    "    i = 1\n",
    "    for n in nums:\n",
    "        for l in letters:\n",
    "            for m in modifiers:\n",
    "                print(f\"'{n}{l}{m}' : {i},\")\n",
    "                i += 1"
   ]
  },
  {
   "cell_type": "code",
   "execution_count": 103,
   "metadata": {},
   "outputs": [
    {
     "name": "stdout",
     "output_type": "stream",
     "text": [
      "'6A' : 1,\n",
      "'6A+' : 2,\n",
      "'6B' : 3,\n",
      "'6B+' : 4,\n",
      "'6C' : 5,\n",
      "'6C+' : 6,\n",
      "'7A' : 7,\n",
      "'7A+' : 8,\n",
      "'7B' : 9,\n",
      "'7B+' : 10,\n",
      "'7C' : 11,\n",
      "'7C+' : 12,\n",
      "'8A' : 13,\n",
      "'8A+' : 14,\n",
      "'8B' : 15,\n",
      "'8B+' : 16,\n",
      "'8C' : 17,\n",
      "'8C+' : 18,\n"
     ]
    }
   ],
   "source": [
    "getdict()"
   ]
  },
  {
   "cell_type": "code",
   "execution_count": 116,
   "metadata": {},
   "outputs": [],
   "source": [
    "from numpy import ndarray\n",
    "from sklearn.base import BaseEstimator \n",
    "from sklearn.base import TransformerMixin \n",
    "\n",
    "class LabelEncoder(BaseEstimator, TransformerMixin):\n",
    "    def fit(self, X: pd.DataFrame, y=None):\n",
    "        return self\n",
    "    \n",
    "    def grade_to_number(self, grade: str) -> int:\n",
    "        \"\"\" Maps a route's grade to an integer \"\"\"\n",
    "        grade_dict = {\n",
    "            '5+' : 0,\n",
    "            '6A' : 1,\n",
    "            '6A+' : 2,\n",
    "            '6B' : 3,\n",
    "            '6B+' : 4,\n",
    "            '6C' : 5,\n",
    "            '6C+' : 6,\n",
    "            '7A' : 7,\n",
    "            '7A+' : 8,\n",
    "            '7B' : 9,\n",
    "            '7B+' : 10,\n",
    "            '7C' : 11,\n",
    "            '7C+' : 12,\n",
    "            '8A' : 13,\n",
    "            '8A+' : 14,\n",
    "            '8B' : 15,\n",
    "            '8B+' : 16,\n",
    "            '8C' : 17,\n",
    "            '8C+' : 18\n",
    "        }\n",
    "        if grade not in grade_dict:\n",
    "            raise Exception(f\"Invalid Grade! {grade}\")\n",
    "        else:\n",
    "            return grade_dict[grade]\n",
    "    \n",
    "    def transform(self, X: pd.DataFrame):\n",
    "        \"\"\" Maps the `grades` column of a `DataFrame` to its numeric value (to be scaled) \"\"\"\n",
    "        df.dropna()\n",
    "        df['grades_numeric'] = df['grades'].apply(self.grade_to_number) # parse grades to numeric value\n",
    "        return df[['grades_numeric']]"
   ]
  },
  {
   "cell_type": "code",
   "execution_count": 105,
   "metadata": {},
   "outputs": [
    {
     "data": {
      "text/plain": [
       "0       9\n",
       "1       9\n",
       "2       9\n",
       "3       9\n",
       "4       9\n",
       "       ..\n",
       "2022    6\n",
       "2023    6\n",
       "2024    6\n",
       "2025    6\n",
       "2026    6\n",
       "Name: grades_numeric, Length: 2025, dtype: int64"
      ]
     },
     "execution_count": 105,
     "metadata": {},
     "output_type": "execute_result"
    }
   ],
   "source": [
    "le = LabelEncoder()\n",
    "df.dropna()\n",
    "le.fit_transform(df)"
   ]
  },
  {
   "cell_type": "code",
   "execution_count": 65,
   "metadata": {},
   "outputs": [
    {
     "data": {
      "text/plain": [
       "0        {'A18': 1, 'C10': 1, 'D15': 1, 'G4': 1, 'H8': 1}\n",
       "1       {'E18': 1, 'F13': 1, 'G6': 1, 'J16': 1, 'J10':...\n",
       "2       {'E18': 1, 'F14': 1, 'F9': 1, 'G2': 1, 'G10': ...\n",
       "3       {'B3': 1, 'E10': 1, 'F7': 1, 'H18': 1, 'I11': ...\n",
       "4        {'D10': 1, 'H18': 1, 'H14': 1, 'H9': 1, 'I5': 1}\n",
       "                              ...                        \n",
       "2022    {'D4': 1, 'F7': 1, 'H11': 1, 'H4': 1, 'I8': 1,...\n",
       "2023    {'C4': 1, 'D9': 1, 'E4': 1, 'H12': 1, 'H11': 1...\n",
       "2024     {'C12': 1, 'D5': 1, 'G10': 1, 'G11': 1, 'J6': 1}\n",
       "2025    {'A4': 1, 'D9': 1, 'E6': 1, 'G11': 1, 'H10': 1...\n",
       "2026    {'A4': 1, 'A12': 1, 'B11': 1, 'E9': 1, 'E10': ...\n",
       "Name: holds, Length: 2025, dtype: object"
      ]
     },
     "execution_count": 65,
     "metadata": {},
     "output_type": "execute_result"
    }
   ],
   "source": [
    "de = DictEncoder()\n",
    "de.transform(df)"
   ]
  },
  {
   "cell_type": "markdown",
   "metadata": {},
   "source": [
    "## Vectorize features using `DictVectorizer`"
   ]
  },
  {
   "cell_type": "code",
   "execution_count": 70,
   "metadata": {},
   "outputs": [
    {
     "data": {
      "text/plain": [
       "array([0., 0., 0., 0., 0., 0., 0., 0., 0., 1., 0., 0., 0., 0., 0., 0., 0.,\n",
       "       0., 0., 0., 0., 0., 0., 0., 0., 0., 0., 0., 0., 0., 0., 0., 0., 0.,\n",
       "       0., 0., 0., 1., 0., 0., 0., 0., 0., 0., 0., 0., 0., 0., 0., 0., 0.,\n",
       "       0., 0., 0., 0., 0., 0., 0., 0., 0., 1., 0., 0., 0., 0., 0., 0., 0.,\n",
       "       0., 0., 0., 0., 0., 0., 0., 0., 0., 0., 0., 0., 0., 0., 0., 0., 0.,\n",
       "       0., 0., 0., 0., 0., 0., 0., 0., 0., 0., 0., 0., 0., 0., 0., 0., 0.,\n",
       "       0., 0., 0., 0., 0., 0., 0., 0., 0., 0., 0., 0., 0., 0., 0., 0., 0.,\n",
       "       0., 1., 0., 0., 0., 0., 0., 0., 0., 0., 0., 0., 0., 0., 0., 0., 0.,\n",
       "       0., 0., 0., 0., 0., 0., 1., 0., 0., 0., 0., 0., 0., 0., 0., 0., 0.,\n",
       "       0., 0., 0., 0., 0., 0., 0., 0., 0., 0., 0., 0., 0., 0., 0., 0., 0.,\n",
       "       0., 0., 0., 0., 0., 0., 0., 0., 0., 0., 0., 0., 0., 0., 0., 0., 0.,\n",
       "       0., 0., 0., 0., 0., 0., 0., 0., 0., 0., 0.])"
      ]
     },
     "execution_count": 70,
     "metadata": {},
     "output_type": "execute_result"
    }
   ],
   "source": [
    "from sklearn.feature_extraction import DictVectorizer\n",
    "\n",
    "dv = DictVectorizer()\n",
    "dv.fit_transform(de.transform(df)).toarray()"
   ]
  },
  {
   "cell_type": "markdown",
   "metadata": {},
   "source": [
    "## Build `Pipeline` to vectorize holds as feature matrix\n",
    "\n",
    "We'll also try `Ridge` regression on the features to figure out how good the model is"
   ]
  },
  {
   "cell_type": "code",
   "execution_count": 129,
   "metadata": {},
   "outputs": [],
   "source": [
    "from sklearn.preprocessing import StandardScaler\n",
    "from sklearn.pipeline import Pipeline \n",
    "from sklearn.linear_model import Ridge\n",
    "\n",
    "label_pipeline = Pipeline([\n",
    "    ('encoder', LabelEncoder()),\n",
    "    ('scaler', StandardScaler())\n",
    "])\n",
    "\n",
    "linear_model = Pipeline([\n",
    "    ('encoder', DictEncoder()),\n",
    "    ('vectorizer', DictVectorizer()),\n",
    "    ('model', Ridge())\n",
    "])"
   ]
  },
  {
   "cell_type": "code",
   "execution_count": 132,
   "metadata": {},
   "outputs": [
    {
     "data": {
      "text/plain": [
       "0.4403839655939606"
      ]
     },
     "execution_count": 132,
     "metadata": {},
     "output_type": "execute_result"
    }
   ],
   "source": [
    "from sklearn.metrics import mean_squared_error\n",
    "\n",
    "y = label_pipeline.fit_transform(df)\n",
    "linear_model.fit(df, y)\n",
    "preds = linear_model.predict(df)\n",
    "mean_squared_error(y, preds)"
   ]
  },
  {
   "cell_type": "code",
   "execution_count": null,
   "metadata": {},
   "outputs": [],
   "source": []
  }
 ],
 "metadata": {
  "kernelspec": {
   "display_name": "base",
   "language": "python",
   "name": "python3"
  },
  "language_info": {
   "codemirror_mode": {
    "name": "ipython",
    "version": 3
   },
   "file_extension": ".py",
   "mimetype": "text/x-python",
   "name": "python",
   "nbconvert_exporter": "python",
   "pygments_lexer": "ipython3",
   "version": "3.9.18"
  }
 },
 "nbformat": 4,
 "nbformat_minor": 2
}
