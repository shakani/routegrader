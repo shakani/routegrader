{
 "cells": [
  {
   "cell_type": "markdown",
   "metadata": {},
   "source": [
    "# Collecting individually scraped tables into one data file"
   ]
  },
  {
   "cell_type": "markdown",
   "metadata": {},
   "source": [
    "## Imports"
   ]
  },
  {
   "cell_type": "code",
   "execution_count": 2,
   "metadata": {},
   "outputs": [],
   "source": [
    "import pandas as pd"
   ]
  },
  {
   "cell_type": "code",
   "execution_count": 3,
   "metadata": {},
   "outputs": [],
   "source": [
    "def get_df(filename: str) -> pd.DataFrame:\n",
    "    \"\"\" Converts `filename.csv` to a dataframe \"\"\"\n",
    "    df = pd.read_csv(filename, index_col=0)\n",
    "    return df"
   ]
  },
  {
   "cell_type": "markdown",
   "metadata": {},
   "source": [
    "## Exploring scraped data"
   ]
  },
  {
   "cell_type": "code",
   "execution_count": 4,
   "metadata": {},
   "outputs": [
    {
     "data": {
      "text/html": [
       "<div>\n",
       "<style scoped>\n",
       "    .dataframe tbody tr th:only-of-type {\n",
       "        vertical-align: middle;\n",
       "    }\n",
       "\n",
       "    .dataframe tbody tr th {\n",
       "        vertical-align: top;\n",
       "    }\n",
       "\n",
       "    .dataframe thead th {\n",
       "        text-align: right;\n",
       "    }\n",
       "</style>\n",
       "<table border=\"1\" class=\"dataframe\">\n",
       "  <thead>\n",
       "    <tr style=\"text-align: right;\">\n",
       "      <th></th>\n",
       "      <th>holds</th>\n",
       "      <th>grades</th>\n",
       "      <th>year</th>\n",
       "      <th>angle</th>\n",
       "    </tr>\n",
       "  </thead>\n",
       "  <tbody>\n",
       "    <tr>\n",
       "      <th>0</th>\n",
       "      <td>[('A18', 'end'), ('C10', 'hold'), ('D15', 'hol...</td>\n",
       "      <td>7B</td>\n",
       "      <td>2020</td>\n",
       "      <td>40</td>\n",
       "    </tr>\n",
       "    <tr>\n",
       "      <th>1</th>\n",
       "      <td>[('E18', 'end'), ('F13', 'hold'), ('G6', 'star...</td>\n",
       "      <td>7B</td>\n",
       "      <td>2020</td>\n",
       "      <td>40</td>\n",
       "    </tr>\n",
       "    <tr>\n",
       "      <th>2</th>\n",
       "      <td>[('E18', 'end'), ('F14', 'hold'), ('F9', 'hold...</td>\n",
       "      <td>7B</td>\n",
       "      <td>2020</td>\n",
       "      <td>40</td>\n",
       "    </tr>\n",
       "    <tr>\n",
       "      <th>3</th>\n",
       "      <td>[('B3', 'start'), ('E10', 'hold'), ('F7', 'hol...</td>\n",
       "      <td>7B</td>\n",
       "      <td>2020</td>\n",
       "      <td>40</td>\n",
       "    </tr>\n",
       "    <tr>\n",
       "      <th>4</th>\n",
       "      <td>[('D10', 'hold'), ('H18', 'end'), ('H14', 'hol...</td>\n",
       "      <td>7B</td>\n",
       "      <td>2020</td>\n",
       "      <td>40</td>\n",
       "    </tr>\n",
       "  </tbody>\n",
       "</table>\n",
       "</div>"
      ],
      "text/plain": [
       "                                               holds grades  year  angle\n",
       "0  [('A18', 'end'), ('C10', 'hold'), ('D15', 'hol...     7B  2020     40\n",
       "1  [('E18', 'end'), ('F13', 'hold'), ('G6', 'star...     7B  2020     40\n",
       "2  [('E18', 'end'), ('F14', 'hold'), ('F9', 'hold...     7B  2020     40\n",
       "3  [('B3', 'start'), ('E10', 'hold'), ('F7', 'hol...     7B  2020     40\n",
       "4  [('D10', 'hold'), ('H18', 'end'), ('H14', 'hol...     7B  2020     40"
      ]
     },
     "execution_count": 4,
     "metadata": {},
     "output_type": "execute_result"
    }
   ],
   "source": [
    "df = get_df('./2016_40.csv')\n",
    "df['year'] = 2020\n",
    "df['angle'] = 40\n",
    "df.head()"
   ]
  },
  {
   "cell_type": "code",
   "execution_count": 10,
   "metadata": {},
   "outputs": [
    {
     "data": {
      "text/html": [
       "<div>\n",
       "<style scoped>\n",
       "    .dataframe tbody tr th:only-of-type {\n",
       "        vertical-align: middle;\n",
       "    }\n",
       "\n",
       "    .dataframe tbody tr th {\n",
       "        vertical-align: top;\n",
       "    }\n",
       "\n",
       "    .dataframe thead th {\n",
       "        text-align: right;\n",
       "    }\n",
       "</style>\n",
       "<table border=\"1\" class=\"dataframe\">\n",
       "  <thead>\n",
       "    <tr style=\"text-align: right;\">\n",
       "      <th></th>\n",
       "      <th>holds</th>\n",
       "      <th>grades</th>\n",
       "      <th>year</th>\n",
       "      <th>angle</th>\n",
       "    </tr>\n",
       "  </thead>\n",
       "  <tbody>\n",
       "    <tr>\n",
       "      <th>0</th>\n",
       "      <td>[('E4', 'start'), ('F18', 'end'), ('G4', 'star...</td>\n",
       "      <td>6A</td>\n",
       "      <td>2017</td>\n",
       "      <td>25</td>\n",
       "    </tr>\n",
       "    <tr>\n",
       "      <th>1</th>\n",
       "      <td>[('A5', 'start'), ('D10', 'hold'), ('E13', 'ho...</td>\n",
       "      <td>6A</td>\n",
       "      <td>2017</td>\n",
       "      <td>25</td>\n",
       "    </tr>\n",
       "    <tr>\n",
       "      <th>2</th>\n",
       "      <td>[('B3', 'start'), ('D11', 'hold'), ('E3', 'sta...</td>\n",
       "      <td>6A</td>\n",
       "      <td>2017</td>\n",
       "      <td>25</td>\n",
       "    </tr>\n",
       "    <tr>\n",
       "      <th>3</th>\n",
       "      <td>[('A18', 'end'), ('C13', 'hold'), ('D17', 'hol...</td>\n",
       "      <td>6A</td>\n",
       "      <td>2017</td>\n",
       "      <td>25</td>\n",
       "    </tr>\n",
       "    <tr>\n",
       "      <th>4</th>\n",
       "      <td>[('B18', 'end'), ('D11', 'hold'), ('D4', 'star...</td>\n",
       "      <td>6A</td>\n",
       "      <td>2017</td>\n",
       "      <td>25</td>\n",
       "    </tr>\n",
       "  </tbody>\n",
       "</table>\n",
       "</div>"
      ],
      "text/plain": [
       "                                               holds grades  year  angle\n",
       "0  [('E4', 'start'), ('F18', 'end'), ('G4', 'star...     6A  2017     25\n",
       "1  [('A5', 'start'), ('D10', 'hold'), ('E13', 'ho...     6A  2017     25\n",
       "2  [('B3', 'start'), ('D11', 'hold'), ('E3', 'sta...     6A  2017     25\n",
       "3  [('A18', 'end'), ('C13', 'hold'), ('D17', 'hol...     6A  2017     25\n",
       "4  [('B18', 'end'), ('D11', 'hold'), ('D4', 'star...     6A  2017     25"
      ]
     },
     "execution_count": 10,
     "metadata": {},
     "output_type": "execute_result"
    }
   ],
   "source": [
    "df2 = get_df('./2017_25.csv')\n",
    "df2['year'] = 2017\n",
    "df2['angle'] = 25\n",
    "df2.head()"
   ]
  },
  {
   "cell_type": "code",
   "execution_count": 20,
   "metadata": {},
   "outputs": [
    {
     "data": {
      "text/html": [
       "<div>\n",
       "<style scoped>\n",
       "    .dataframe tbody tr th:only-of-type {\n",
       "        vertical-align: middle;\n",
       "    }\n",
       "\n",
       "    .dataframe tbody tr th {\n",
       "        vertical-align: top;\n",
       "    }\n",
       "\n",
       "    .dataframe thead th {\n",
       "        text-align: right;\n",
       "    }\n",
       "</style>\n",
       "<table border=\"1\" class=\"dataframe\">\n",
       "  <thead>\n",
       "    <tr style=\"text-align: right;\">\n",
       "      <th></th>\n",
       "      <th>holds</th>\n",
       "      <th>grades</th>\n",
       "      <th>year</th>\n",
       "      <th>angle</th>\n",
       "    </tr>\n",
       "  </thead>\n",
       "  <tbody>\n",
       "    <tr>\n",
       "      <th>0</th>\n",
       "      <td>[('A18', 'end'), ('C10', 'hold'), ('D15', 'hol...</td>\n",
       "      <td>7B</td>\n",
       "      <td>2020</td>\n",
       "      <td>40</td>\n",
       "    </tr>\n",
       "    <tr>\n",
       "      <th>1</th>\n",
       "      <td>[('E18', 'end'), ('F13', 'hold'), ('G6', 'star...</td>\n",
       "      <td>7B</td>\n",
       "      <td>2020</td>\n",
       "      <td>40</td>\n",
       "    </tr>\n",
       "    <tr>\n",
       "      <th>2</th>\n",
       "      <td>[('E18', 'end'), ('F14', 'hold'), ('F9', 'hold...</td>\n",
       "      <td>7B</td>\n",
       "      <td>2020</td>\n",
       "      <td>40</td>\n",
       "    </tr>\n",
       "    <tr>\n",
       "      <th>3</th>\n",
       "      <td>[('B3', 'start'), ('E10', 'hold'), ('F7', 'hol...</td>\n",
       "      <td>7B</td>\n",
       "      <td>2020</td>\n",
       "      <td>40</td>\n",
       "    </tr>\n",
       "    <tr>\n",
       "      <th>4</th>\n",
       "      <td>[('D10', 'hold'), ('H18', 'end'), ('H14', 'hol...</td>\n",
       "      <td>7B</td>\n",
       "      <td>2020</td>\n",
       "      <td>40</td>\n",
       "    </tr>\n",
       "  </tbody>\n",
       "</table>\n",
       "</div>"
      ],
      "text/plain": [
       "                                               holds grades  year  angle\n",
       "0  [('A18', 'end'), ('C10', 'hold'), ('D15', 'hol...     7B  2020     40\n",
       "1  [('E18', 'end'), ('F13', 'hold'), ('G6', 'star...     7B  2020     40\n",
       "2  [('E18', 'end'), ('F14', 'hold'), ('F9', 'hold...     7B  2020     40\n",
       "3  [('B3', 'start'), ('E10', 'hold'), ('F7', 'hol...     7B  2020     40\n",
       "4  [('D10', 'hold'), ('H18', 'end'), ('H14', 'hol...     7B  2020     40"
      ]
     },
     "execution_count": 20,
     "metadata": {},
     "output_type": "execute_result"
    }
   ],
   "source": [
    "result = pd.concat([df, df2])\n",
    "result.index = pd.Series(range(len(result)))"
   ]
  },
  {
   "cell_type": "code",
   "execution_count": 22,
   "metadata": {},
   "outputs": [
    {
     "data": {
      "text/html": [
       "<div>\n",
       "<style scoped>\n",
       "    .dataframe tbody tr th:only-of-type {\n",
       "        vertical-align: middle;\n",
       "    }\n",
       "\n",
       "    .dataframe tbody tr th {\n",
       "        vertical-align: top;\n",
       "    }\n",
       "\n",
       "    .dataframe thead th {\n",
       "        text-align: right;\n",
       "    }\n",
       "</style>\n",
       "<table border=\"1\" class=\"dataframe\">\n",
       "  <thead>\n",
       "    <tr style=\"text-align: right;\">\n",
       "      <th></th>\n",
       "      <th>holds</th>\n",
       "      <th>grades</th>\n",
       "      <th>year</th>\n",
       "      <th>angle</th>\n",
       "    </tr>\n",
       "  </thead>\n",
       "  <tbody>\n",
       "    <tr>\n",
       "      <th>0</th>\n",
       "      <td>[('A18', 'end'), ('C10', 'hold'), ('D15', 'hol...</td>\n",
       "      <td>7B</td>\n",
       "      <td>2016</td>\n",
       "      <td>40</td>\n",
       "    </tr>\n",
       "    <tr>\n",
       "      <th>1</th>\n",
       "      <td>[('E18', 'end'), ('F13', 'hold'), ('G6', 'star...</td>\n",
       "      <td>7B</td>\n",
       "      <td>2016</td>\n",
       "      <td>40</td>\n",
       "    </tr>\n",
       "    <tr>\n",
       "      <th>2</th>\n",
       "      <td>[('E18', 'end'), ('F14', 'hold'), ('F9', 'hold...</td>\n",
       "      <td>7B</td>\n",
       "      <td>2016</td>\n",
       "      <td>40</td>\n",
       "    </tr>\n",
       "    <tr>\n",
       "      <th>3</th>\n",
       "      <td>[('B3', 'start'), ('E10', 'hold'), ('F7', 'hol...</td>\n",
       "      <td>7B</td>\n",
       "      <td>2016</td>\n",
       "      <td>40</td>\n",
       "    </tr>\n",
       "    <tr>\n",
       "      <th>4</th>\n",
       "      <td>[('D10', 'hold'), ('H18', 'end'), ('H14', 'hol...</td>\n",
       "      <td>7B</td>\n",
       "      <td>2016</td>\n",
       "      <td>40</td>\n",
       "    </tr>\n",
       "  </tbody>\n",
       "</table>\n",
       "</div>"
      ],
      "text/plain": [
       "                                               holds grades  year  angle\n",
       "0  [('A18', 'end'), ('C10', 'hold'), ('D15', 'hol...     7B  2016     40\n",
       "1  [('E18', 'end'), ('F13', 'hold'), ('G6', 'star...     7B  2016     40\n",
       "2  [('E18', 'end'), ('F14', 'hold'), ('F9', 'hold...     7B  2016     40\n",
       "3  [('B3', 'start'), ('E10', 'hold'), ('F7', 'hol...     7B  2016     40\n",
       "4  [('D10', 'hold'), ('H18', 'end'), ('H14', 'hol...     7B  2016     40"
      ]
     },
     "execution_count": 22,
     "metadata": {},
     "output_type": "execute_result"
    }
   ],
   "source": [
    "keymaps = [(2016, 40), (2017, 40), (2017, 25), (2019, 40), (2019, 25), (2020, 40)]\n",
    "dataframes = []\n",
    "for (year, angle) in keymaps:\n",
    "    df = get_df(f'./{year}_{angle}.csv')\n",
    "    df['year'] = year\n",
    "    df['angle'] = angle \n",
    "    dataframes.append(df)\n",
    "\n",
    "df_full = pd.concat(dataframes)\n",
    "df_full.index = pd.Series(range(len(df_full)))\n",
    "df_full.head()"
   ]
  },
  {
   "cell_type": "code",
   "execution_count": 24,
   "metadata": {},
   "outputs": [],
   "source": [
    "df_full.to_csv('moonboard_data.csv')"
   ]
  },
  {
   "cell_type": "code",
   "execution_count": 38,
   "metadata": {},
   "outputs": [],
   "source": [
    "import seaborn as sns \n",
    "\n",
    "grade_labels = sorted(list(df_full['grades'].unique()))\n",
    "grade_dict = { grade : i for i, grade in enumerate(grade_labels) }\n",
    "\n",
    "df_full['grade_score'] = [grade_dict[g] for g in df_full['grades']]"
   ]
  },
  {
   "cell_type": "code",
   "execution_count": 50,
   "metadata": {},
   "outputs": [
    {
     "data": {
      "text/plain": [
       "2"
      ]
     },
     "execution_count": 50,
     "metadata": {},
     "output_type": "execute_result"
    }
   ],
   "source": [
    "df_full['holds'].isna().sum()"
   ]
  },
  {
   "cell_type": "code",
   "execution_count": null,
   "metadata": {},
   "outputs": [],
   "source": []
  }
 ],
 "metadata": {
  "kernelspec": {
   "display_name": "base",
   "language": "python",
   "name": "python3"
  },
  "language_info": {
   "codemirror_mode": {
    "name": "ipython",
    "version": 3
   },
   "file_extension": ".py",
   "mimetype": "text/x-python",
   "name": "python",
   "nbconvert_exporter": "python",
   "pygments_lexer": "ipython3",
   "version": "3.9.18"
  }
 },
 "nbformat": 4,
 "nbformat_minor": 2
}
