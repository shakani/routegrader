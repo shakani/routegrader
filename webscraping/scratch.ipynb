{
 "cells": [
  {
   "cell_type": "markdown",
   "metadata": {},
   "source": [
    "# Moonboard Webscraper"
   ]
  },
  {
   "cell_type": "markdown",
   "metadata": {},
   "source": [
    "## Imports"
   ]
  },
  {
   "cell_type": "code",
   "execution_count": 1,
   "metadata": {},
   "outputs": [],
   "source": [
    "import requests\n",
    "from bs4 import BeautifulSoup\n",
    "\n",
    "# from requests_html import AsyncHTMLSession"
   ]
  },
  {
   "cell_type": "markdown",
   "metadata": {},
   "source": [
    "## Figuring out the right HTTP headers for BeautifulSoup"
   ]
  },
  {
   "cell_type": "code",
   "execution_count": 2,
   "metadata": {},
   "outputs": [],
   "source": [
    "def soup_filter(html, tag=None, _class=None, multiple=True):\n",
    "    if tag is None:\n",
    "        return BeautifulSoup(html, 'html.parser')\n",
    "    elif multiple:\n",
    "        return BeautifulSoup(html, 'html.parser').findAll(tag, _class)\n",
    "    elif not multiple:\n",
    "        return BeautifulSoup(html, 'html.parser').find(tag, _class)"
   ]
  },
  {
   "cell_type": "code",
   "execution_count": 40,
   "metadata": {},
   "outputs": [],
   "source": [
    "def holdset_angle_mapping(holdset, angle):\n",
    "\n",
    "    if holdset == \"MoonBoard 2016\" and angle == \"\":\n",
    "        return \"1\", \"0\"\n",
    "    elif holdset == \"MoonBoard Masters 2017\" and angle == \"40\":\n",
    "        return \"15\", \"1\"\n",
    "    elif holdset == \"MoonBoard Masters 2017\" and angle == \"25\":\n",
    "        return \"15\", \"2\"\n",
    "    elif holdset == \"MoonBoard Masters 2019\" and angle == \"40\":\n",
    "        return \"17\", \"1\"\n",
    "    elif holdset == \"MoonBoard Masters 2019\" and angle == \"25\":\n",
    "        return \"17\", \"2\"\n",
    "    elif holdset == \"Mini MoonBoard 2020\" and angle == \"40\":\n",
    "        return \"19\", \"1\"\n",
    "    else:\n",
    "        raise ValueError(holdset, angle)\n"
   ]
  },
  {
   "cell_type": "markdown",
   "metadata": {},
   "source": [
    "## Payload Testing"
   ]
  },
  {
   "cell_type": "code",
   "execution_count": null,
   "metadata": {},
   "outputs": [],
   "source": [
    "URL = 'https://www.moonboard.com/Account/Login'\n",
    "dashboard_URL = 'https://www.moonboard.com/Dashboard/Index'\n",
    "test_URL = 'https://www.moonboard.com/Problems/View/358034/9circle'\n",
    "# test_URL = 'https://restapimoonboard.ems-x.com/v1/_moonapi/problems/v3/19/40/1?v=8.3.4'\n",
    "\n",
    "########################################\n",
    "#\n",
    "#  Enter your username and password here!\n",
    "#\n",
    "########################################\n",
    "\n",
    "payload = {'user': '', 'pass' : ''}\n",
    "\n",
    "with requests.Session() as session:\n",
    "    headers = {'User-Agent': \"\"\"Mozilla/5.0 (X11; Linux x86_64) \"\"\"\n",
    "               \"\"\"AppleWebKit/537.36 (KHTML, like Gecko) \"\"\"\n",
    "               \"\"\"Chrome/58.0.3029.110 Safari/537.36\"\"\"}\n",
    "    \n",
    "    raw_token = session.get(URL, headers=headers)\n",
    "\n",
    "    token = soup_filter(raw_token.text, tag='input', _class={'name': '__RequestVerificationToken'}, multiple=False)['value']\n",
    "    \n",
    "    payload = {'authenticity_token': token, \n",
    "            'user[login]': '',\n",
    "            'user[password]': '',\n",
    "            'user[locale]': 'en',\n",
    "            'user[otp_attempt]': 'step_1',\n",
    "            'utf8': '✓'}\n",
    "    \n",
    "    login = session.post(URL,\n",
    "                         headers=headers,\n",
    "                         data=payload)\n",
    "    \n",
    "    page = session.get(test_URL, headers=headers, cookies=session.cookies)\n",
    "    my_soup = BeautifulSoup(page.text, features='lxml')\n",
    "    print(my_soup)"
   ]
  },
  {
   "cell_type": "code",
   "execution_count": 67,
   "metadata": {},
   "outputs": [
    {
     "data": {
      "text/plain": [
       "'{\"Method\":\"Feet follow hands\",\"Name\":\"9CIRCLE\",\"Grade\":\"6A+\",\"UserGrade\":\"6A+\",\"MoonBoardConfiguration\":{\"Id\":1,\"Description\":\"40° MoonBoard\",\"LowGrade\":null,\"HighGrade\":null},\"MoonBoardConfigurationId\":0,\"Setter\":{\"Id\":\"24473fff-738f-4b75-a62c-1ac1f67037ce\",\"Nickname\":\"episkeptis0\",\"Firstname\":\"vvvv\",\"Lastname\":\"kkkk\",\"City\":\"athens\",\"Country\":\"Greece\",\"ProfileImageUrl\":\"/Content/Account/Images/default-profile.png?638412317637153659\",\"CanShareData\":true},\"FirstAscender\":false,\"Rating\":0,\"UserRating\":4,\"Repeats\":0,\"Attempts\":0,\"Holdsetup\":{\"Id\":17,\"Description\":\"MoonBoard Masters 2019\",\"Setby\":null,\"DateInserted\":null,\"DateUpdated\":null,\"DateDeleted\":null,\"IsLocked\":false,\"IsMini\":false,\"Active\":false,\"Holdsets\":null,\"MoonBoardConfigurations\":null,\"HoldLayoutId\":0,\"AllowClimbMethods\":true},\"IsBenchmark\":true,\"IsMaster\":false,\"IsAssessmentProblem\":false,\"ProblemType\":null,\"Moves\":[{\"Id\":2043503,\"Description\":\"B5\",\"IsStart\":true,\"IsEnd\":false},{\"Id\":2043504,\"Description\":\"A9\",\"IsStart\":false,\"IsEnd\":false},{\"Id\":2043505,\"Description\":\"A18\",\"IsStart\":false,\"IsEnd\":true},{\"Id\":2043506,\"Description\":\"C12\",\"IsStart\":false,\"IsEnd\":false},{\"Id\":2043507,\"Description\":\"D15\",\"IsStart\":false,\"IsEnd\":false},{\"Id\":2043508,\"Description\":\"A14\",\"IsStart\":false,\"IsEnd\":false},{\"Id\":2043509,\"Description\":\"B11\",\"IsStart\":false,\"IsEnd\":false}],\"Holdsets\":[{\"Id\":0,\"Description\":\"Hold Set A\",\"Color\":\"#dee1ce\",\"Holds\":null},{\"Id\":0,\"Description\":\"Hold Set B\",\"Color\":\"#000000\",\"Holds\":null}],\"Locations\":[{\"Id\":0,\"Holdset\":null,\"Description\":\"A9\",\"X\":95,\"Y\":538,\"Color\":\"0x0000FF\",\"Rotation\":0,\"Type\":2,\"HoldNumber\":null,\"Direction\":0,\"DirectionString\":\"N\"},{\"Id\":0,\"Holdset\":null,\"Description\":\"A14\",\"X\":95,\"Y\":288,\"Color\":\"0x0000FF\",\"Rotation\":0,\"Type\":2,\"HoldNumber\":null,\"Direction\":0,\"DirectionString\":\"N\"},{\"Id\":0,\"Holdset\":null,\"Description\":\"A18\",\"X\":95,\"Y\":88,\"Color\":\"0xFF0000\",\"Rotation\":0,\"Type\":3,\"HoldNumber\":null,\"Direction\":0,\"DirectionString\":\"N\"},{\"Id\":0,\"Holdset\":null,\"Description\":\"B11\",\"X\":145,\"Y\":436,\"Color\":\"0x0000FF\",\"Rotation\":0,\"Type\":2,\"HoldNumber\":null,\"Direction\":0,\"DirectionString\":\"N\"},{\"Id\":0,\"Holdset\":null,\"Description\":\"B5\",\"X\":145,\"Y\":736,\"Color\":\"0x00FF00\",\"Rotation\":0,\"Type\":1,\"HoldNumber\":null,\"Direction\":0,\"DirectionString\":\"N\"},{\"Id\":0,\"Holdset\":null,\"Description\":\"C12\",\"X\":195,\"Y\":388,\"Color\":\"0x0000FF\",\"Rotation\":0,\"Type\":2,\"HoldNumber\":null,\"Direction\":0,\"DirectionString\":\"N\"},{\"Id\":0,\"Holdset\":null,\"Description\":\"D15\",\"X\":245,\"Y\":236,\"Color\":\"0x0000FF\",\"Rotation\":0,\"Type\":2,\"HoldNumber\":null,\"Direction\":0,\"DirectionString\":\"N\"}],\"RepeatText\":null,\"NumberOfTries\":null,\"NameForUrl\":\"9circle\",\"Upgraded\":false,\"Downgraded\":false,\"Id\":358034,\"ApiId\":0,\"DateInserted\":\"\\\\/Date(1576245987217)\\\\/\",\"DateUpdated\":null,\"DateDeleted\":null,\"DateTimeString\":\"13 Dec 2019 14:06\"}'"
      ]
     },
     "execution_count": 67,
     "metadata": {},
     "output_type": "execute_result"
    }
   ],
   "source": [
    "json_str = str(script_arr[-1]).split('\\n')[3].strip('\\r')[30:-3]\n",
    "json_str"
   ]
  },
  {
   "cell_type": "code",
   "execution_count": 91,
   "metadata": {},
   "outputs": [
    {
     "data": {
      "text/plain": [
       "[('A9', 'hold'),\n",
       " ('A14', 'hold'),\n",
       " ('A18', 'end'),\n",
       " ('B11', 'hold'),\n",
       " ('B5', 'start'),\n",
       " ('C12', 'hold'),\n",
       " ('D15', 'hold')]"
      ]
     },
     "execution_count": 91,
     "metadata": {},
     "output_type": "execute_result"
    }
   ],
   "source": [
    "import json \n",
    "\n",
    "json_dict = json.loads(json_str)\n",
    "color_dict = {\n",
    "    '0x0000FF' : 'hold',\n",
    "    '0xFF0000' : 'end',\n",
    "    '0x00FF00' : 'start'\n",
    "}\n",
    "[(x['Description'], color_dict[x['Color']]) for x in json_dict['Locations']]"
   ]
  },
  {
   "cell_type": "code",
   "execution_count": 83,
   "metadata": {},
   "outputs": [
    {
     "data": {
      "text/plain": [
       "'DateTimeString'"
      ]
     },
     "execution_count": 83,
     "metadata": {},
     "output_type": "execute_result"
    }
   ],
   "source": [
    "list(json_dict.keys())[-1]"
   ]
  },
  {
   "cell_type": "markdown",
   "metadata": {},
   "source": [
    "## Getting the holds for a given problem URL"
   ]
  },
  {
   "cell_type": "code",
   "execution_count": 258,
   "metadata": {},
   "outputs": [],
   "source": [
    "import json \n",
    "from time import sleep\n",
    "\n",
    "\n",
    "def get_holds(test_URL: str, sleepTime=1., username: str = '', password: str = ''):\n",
    "        \"\"\"\n",
    "        Returns a list of tuples `holds` for the url `test_URL`.\n",
    "        \n",
    "        Arguments\n",
    "        test_url  -- the URL from which to strip holds. \n",
    "        sleepTime -- number of seconds to wait between HTTP requests.\n",
    "        \"\"\"\n",
    "        sleep(sleepTime)\n",
    "        URL = 'https://www.moonboard.com/Account/Login'\n",
    "        dashboard_URL = 'https://www.moonboard.com/Dashboard/index'\n",
    "        \n",
    "        ########################################\n",
    "        #\n",
    "        #  Enter your username and password here!\n",
    "        #\n",
    "        ########################################\n",
    "        payload = {'user': username, 'pass' : password}\n",
    "        \n",
    "        # Start an HTTP session\n",
    "        with requests.Session() as session:\n",
    "                headers = {'User-Agent': \"\"\"Mozilla/5.0 (X11; Linux x86_64) \"\"\"\n",
    "                        \"\"\"AppleWebKit/537.36 (KHTML, like Gecko) \"\"\"\n",
    "                        \"\"\"Chrome/58.0.3029.110 Safari/537.36\"\"\"} # spoofed headers\n",
    "                \n",
    "                raw_token = session.get(URL, headers=headers)\n",
    "\n",
    "                # getting verification token from HTML\n",
    "                token = soup_filter(raw_token.text, tag='input', _class={'name': '__RequestVerificationToken'}, multiple=False)['value']\n",
    "                \n",
    "                \n",
    "                payload = {'authenticity_token': token, \n",
    "                        'user[login]': username,\n",
    "                        'user[password]': password,\n",
    "                        'user[locale]': 'en',\n",
    "                        'user[otp_attempt]': 'step_1',\n",
    "                        'utf8': '✓'}\n",
    "                \n",
    "                # post payload to log into Moonboard\n",
    "                login = session.post(URL,\n",
    "                                headers=headers,\n",
    "                                data=payload)\n",
    "                \n",
    "                # scrape page using BeautifulSoup\n",
    "                page = session.get(test_URL, headers=headers, cookies=session.cookies)\n",
    "                my_soup = BeautifulSoup(page.text, features='lxml')\n",
    "                \n",
    "                # route holds are a JSON in a script tag!\n",
    "                script_arr = my_soup.find_all('script', attrs={'type' : 'text/javascript'})\n",
    "        \n",
    "        # parse script tag to get holds as JSON\n",
    "        json_str = str(script_arr[-1]).split('\\n')[3].strip('\\r')[30:-3]\n",
    "        json_dict = json.loads(json_str)\n",
    "        \n",
    "        # Parse JSON to get holds in a desired format\n",
    "        color_dict = {\n",
    "        '0x0000FF' : 'hold',\n",
    "        '0xFF0000' : 'end',\n",
    "        '0x00FF00' : 'start'\n",
    "        }\n",
    "        return [(x['Description'], color_dict[x['Color']]) for x in json_dict['Locations']]"
   ]
  },
  {
   "cell_type": "code",
   "execution_count": 93,
   "metadata": {},
   "outputs": [
    {
     "data": {
      "text/plain": [
       "[('B15', 'hold'),\n",
       " ('C3', 'start'),\n",
       " ('C18', 'end'),\n",
       " ('D8', 'hold'),\n",
       " ('H13', 'hold'),\n",
       " ('K11', 'hold')]"
      ]
     },
     "execution_count": 93,
     "metadata": {},
     "output_type": "execute_result"
    }
   ],
   "source": [
    "get_holds(\"https://www.moonboard.com/Problems/View/411086/kushnir\")"
   ]
  },
  {
   "cell_type": "markdown",
   "metadata": {},
   "source": [
    "## Tables were scraped from local snapshots of Moonboard Dashboard"
   ]
  },
  {
   "cell_type": "code",
   "execution_count": 279,
   "metadata": {},
   "outputs": [],
   "source": [
    "local_file = './tables/2019_25/2019_25_2.html'"
   ]
  },
  {
   "cell_type": "code",
   "execution_count": 210,
   "metadata": {},
   "outputs": [],
   "source": [
    "def strip_local_page(filename: str):\n",
    "    with open(filename) as f:\n",
    "        soup = BeautifulSoup(f)\n",
    "        benchMark_table = soup.find('div', {'id': 'grdBenchmarks'})\n",
    "        rows = benchMark_table.find_all('tr')\n",
    "        row_data = [row.find_all('td') for row in rows[1:]]\n",
    "        y = [[cell.text for cell in row][1:2] for row in row_data]\n",
    "        links = [row[0].find('a', href=True) for row in row_data]\n",
    "        links = [link['href'] for link in links if link]\n",
    "        return list(list(zip(*y))[0])[:-1], links"
   ]
  },
  {
   "cell_type": "code",
   "execution_count": 283,
   "metadata": {},
   "outputs": [
    {
     "name": "stdout",
     "output_type": "stream",
     "text": [
      "[[<td class=\"\" role=\"gridcell\" style=\"width:50%;\"><a href=\"https://www.moonboard.com/Problems/View/412516/geralt-of-rivia-25\" target=\"_blank\">GERALT OF RIVIA 25°</a></td>, <td class=\"\" role=\"gridcell\" style=\"width:15%;\">6C+</td>, <td class=\"\" role=\"gridcell\" style=\"width:15%;\"> 0 </td>, <td class=\"\" role=\"gridcell\" style=\"width:20%;\">703</td>], [<td class=\"\" role=\"gridcell\" style=\"width:50%;\"><a href=\"https://www.moonboard.com/Problems/View/412520/i-hate-gaston-25\" target=\"_blank\">I HATE GASTON 25°</a></td>, <td class=\"\" role=\"gridcell\" style=\"width:15%;\">6C+</td>, <td class=\"\" role=\"gridcell\" style=\"width:15%;\"> 0 </td>, <td class=\"\" role=\"gridcell\" style=\"width:20%;\">703</td>], [<td class=\"\" role=\"gridcell\" style=\"width:50%;\"><a href=\"https://www.moonboard.com/Problems/View/368172/jazz-hands\" target=\"_blank\">JAZZ HANDS</a></td>, <td class=\"\" role=\"gridcell\" style=\"width:15%;\">6C+</td>, <td class=\"\" role=\"gridcell\" style=\"width:15%;\"> 0 </td>, <td class=\"\" role=\"gridcell\" style=\"width:20%;\">703</td>], [<td class=\"\" role=\"gridcell\" style=\"width:50%;\"><a href=\"https://www.moonboard.com/Problems/View/414890/kiss-the-wall\" target=\"_blank\">KISS THE WALL</a></td>, <td class=\"\" role=\"gridcell\" style=\"width:15%;\">6C+</td>, <td class=\"\" role=\"gridcell\" style=\"width:15%;\"> 0 </td>, <td class=\"\" role=\"gridcell\" style=\"width:20%;\">703</td>], [<td class=\"\" role=\"gridcell\" style=\"width:50%;\"><a href=\"https://www.moonboard.com/Problems/View/440627/ofuuuu\" target=\"_blank\">OFUUUU</a></td>, <td class=\"\" role=\"gridcell\" style=\"width:15%;\">6C+</td>, <td class=\"\" role=\"gridcell\" style=\"width:15%;\"> 0 </td>, <td class=\"\" role=\"gridcell\" style=\"width:20%;\">703</td>], [<td class=\"\" role=\"gridcell\" style=\"width:50%;\"><a href=\"https://www.moonboard.com/Problems/View/381654/only-little-wood\" target=\"_blank\">ONLY LITTLE WOOD</a></td>, <td class=\"\" role=\"gridcell\" style=\"width:15%;\">6C+</td>, <td class=\"\" role=\"gridcell\" style=\"width:15%;\"> 0 </td>, <td class=\"\" role=\"gridcell\" style=\"width:20%;\">703</td>], [<td class=\"\" role=\"gridcell\" style=\"width:50%;\"><a href=\"https://www.moonboard.com/Problems/View/365733/open-boarders\" target=\"_blank\">OPEN BOARDERS</a></td>, <td class=\"\" role=\"gridcell\" style=\"width:15%;\">6C+</td>, <td class=\"\" role=\"gridcell\" style=\"width:15%;\"> 0 </td>, <td class=\"\" role=\"gridcell\" style=\"width:20%;\">703</td>], [<td class=\"\" role=\"gridcell\" style=\"width:50%;\"><a href=\"https://www.moonboard.com/Problems/View/372710/suzuki\" target=\"_blank\">SUZUKI</a></td>, <td class=\"\" role=\"gridcell\" style=\"width:15%;\">6C+</td>, <td class=\"\" role=\"gridcell\" style=\"width:15%;\"> 0 </td>, <td class=\"\" role=\"gridcell\" style=\"width:20%;\">703</td>], [<td class=\"\" role=\"gridcell\" style=\"width:50%;\"><a href=\"https://www.moonboard.com/Problems/View/368993/beans\" target=\"_blank\">BEANS</a></td>, <td class=\"\" role=\"gridcell\" style=\"width:15%;\">6C</td>, <td class=\"\" role=\"gridcell\" style=\"width:15%;\"> 0 </td>, <td class=\"\" role=\"gridcell\" style=\"width:20%;\">653</td>], [<td class=\"\" role=\"gridcell\" style=\"width:50%;\"><a href=\"https://www.moonboard.com/Problems/View/366406/covid-hair\" target=\"_blank\">COVID HAIR</a></td>, <td class=\"\" role=\"gridcell\" style=\"width:15%;\">6C</td>, <td class=\"\" role=\"gridcell\" style=\"width:15%;\"> 0 </td>, <td class=\"\" role=\"gridcell\" style=\"width:20%;\">653</td>], [<td class=\"\" role=\"gridcell\" style=\"width:50%;\"><a href=\"https://www.moonboard.com/Problems/View/395305/cypher-25\" target=\"_blank\">CYPHER 25</a></td>, <td class=\"\" role=\"gridcell\" style=\"width:15%;\">6C</td>, <td class=\"\" role=\"gridcell\" style=\"width:15%;\"> 0 </td>, <td class=\"\" role=\"gridcell\" style=\"width:20%;\">653</td>], [<td class=\"\" role=\"gridcell\" style=\"width:50%;\"><a href=\"https://www.moonboard.com/Problems/View/420891/frontface\" target=\"_blank\">FRONTFACE</a></td>, <td class=\"\" role=\"gridcell\" style=\"width:15%;\">6C</td>, <td class=\"\" role=\"gridcell\" style=\"width:15%;\"> 0 </td>, <td class=\"\" role=\"gridcell\" style=\"width:20%;\">653</td>], [<td class=\"\" role=\"gridcell\" style=\"width:50%;\"><a href=\"https://www.moonboard.com/Problems/View/444436/gaston-bury-festival-25\" target=\"_blank\">GASTON-BURY FESTIVAL 25°</a></td>, <td class=\"\" role=\"gridcell\" style=\"width:15%;\">6C</td>, <td class=\"\" role=\"gridcell\" style=\"width:15%;\"> 0 </td>, <td class=\"\" role=\"gridcell\" style=\"width:20%;\">653</td>], [<td class=\"\" role=\"gridcell\" style=\"width:50%;\"><a href=\"https://www.moonboard.com/Problems/View/402673/les-bor%C3%A9ades-25\" target=\"_blank\">LES BORÉADES 25°</a></td>, <td class=\"\" role=\"gridcell\" style=\"width:15%;\">6C</td>, <td class=\"\" role=\"gridcell\" style=\"width:15%;\"> 0 </td>, <td class=\"\" role=\"gridcell\" style=\"width:20%;\">653</td>], [<td class=\"\" role=\"gridcell\" style=\"width:50%;\"><a href=\"https://www.moonboard.com/Problems/View/379838/ll-yellow\" target=\"_blank\">LL'YELLOW</a></td>, <td class=\"\" role=\"gridcell\" style=\"width:15%;\">6C</td>, <td class=\"\" role=\"gridcell\" style=\"width:15%;\"> 0 </td>, <td class=\"\" role=\"gridcell\" style=\"width:20%;\">653</td>], [<td class=\"\" role=\"gridcell\" style=\"width:50%;\"><a href=\"https://www.moonboard.com/Problems/View/412565/m-y-1\" target=\"_blank\">M&amp;Y 1</a></td>, <td class=\"\" role=\"gridcell\" style=\"width:15%;\">6C</td>, <td class=\"\" role=\"gridcell\" style=\"width:15%;\"> 0 </td>, <td class=\"\" role=\"gridcell\" style=\"width:20%;\">653</td>], [<td class=\"\" role=\"gridcell\" style=\"width:50%;\"><a href=\"https://www.moonboard.com/Problems/View/400771/pogolino-25\" target=\"_blank\">POGOLINO 25°</a></td>, <td class=\"\" role=\"gridcell\" style=\"width:15%;\">6C</td>, <td class=\"\" role=\"gridcell\" style=\"width:15%;\"> 0 </td>, <td class=\"\" role=\"gridcell\" style=\"width:20%;\">653</td>], [<td class=\"\" role=\"gridcell\" style=\"width:50%;\"><a href=\"https://www.moonboard.com/Problems/View/362870/side-fool\" target=\"_blank\">SIDE FOOL</a></td>, <td class=\"\" role=\"gridcell\" style=\"width:15%;\">6C</td>, <td class=\"\" role=\"gridcell\" style=\"width:15%;\"> 0 </td>, <td class=\"\" role=\"gridcell\" style=\"width:20%;\">653</td>], [<td class=\"\" role=\"gridcell\" style=\"width:50%;\"><a href=\"https://www.moonboard.com/Problems/View/368139/summer-reign\" target=\"_blank\">SUMMER REIGN</a></td>, <td class=\"\" role=\"gridcell\" style=\"width:15%;\">6C</td>, <td class=\"\" role=\"gridcell\" style=\"width:15%;\"> 0 </td>, <td class=\"\" role=\"gridcell\" style=\"width:20%;\">653</td>], [<td class=\"\" role=\"gridcell\" style=\"width:50%;\"><a href=\"https://www.moonboard.com/Problems/View/395024/toepress-25\" target=\"_blank\">TOEPRESS 25’</a></td>, <td class=\"\" role=\"gridcell\" style=\"width:15%;\">6C</td>, <td class=\"\" role=\"gridcell\" style=\"width:15%;\"> 0 </td>, <td class=\"\" role=\"gridcell\" style=\"width:20%;\">653</td>], [<td class=\"\" role=\"gridcell\" style=\"width:50%;\"><a href=\"https://www.moonboard.com/Problems/View/368657/trick-in-the-toe\" target=\"_blank\">TRICK IN THE TOE</a></td>, <td class=\"\" role=\"gridcell\" style=\"width:15%;\">6C</td>, <td class=\"\" role=\"gridcell\" style=\"width:15%;\"> 0 </td>, <td class=\"\" role=\"gridcell\" style=\"width:20%;\">653</td>], [<td class=\"\" role=\"gridcell\" style=\"width:50%;\"><a href=\"https://www.moonboard.com/Problems/View/402099/troubadour-25\" target=\"_blank\">TROUBADOUR 25°</a></td>, <td class=\"\" role=\"gridcell\" style=\"width:15%;\">6C</td>, <td class=\"\" role=\"gridcell\" style=\"width:15%;\"> 0 </td>, <td class=\"\" role=\"gridcell\" style=\"width:20%;\">653</td>], [<td class=\"\" role=\"gridcell\" style=\"width:50%;\"><a href=\"https://www.moonboard.com/Problems/View/402100/tuck-in-25\" target=\"_blank\">TUCK-IN 25°</a></td>, <td class=\"\" role=\"gridcell\" style=\"width:15%;\">6C</td>, <td class=\"\" role=\"gridcell\" style=\"width:15%;\"> 0 </td>, <td class=\"\" role=\"gridcell\" style=\"width:20%;\">653</td>], [<td class=\"\" role=\"gridcell\" style=\"width:50%;\"><a href=\"https://www.moonboard.com/Problems/View/368862/f9-rocks\" target=\"_blank\">F9 ROCKS</a></td>, <td class=\"\" role=\"gridcell\" style=\"width:15%;\">6B+</td>, <td class=\"\" role=\"gridcell\" style=\"width:15%;\"> 0 </td>, <td class=\"\" role=\"gridcell\" style=\"width:20%;\">603</td>], [<td class=\"\" role=\"gridcell\" style=\"width:50%;\"><a href=\"https://www.moonboard.com/Problems/View/417928/farlig-norsk-hengebro\" target=\"_blank\">FARLIG NORSK HENGEBRO</a></td>, <td class=\"\" role=\"gridcell\" style=\"width:15%;\">6B+</td>, <td class=\"\" role=\"gridcell\" style=\"width:15%;\"> 0 </td>, <td class=\"\" role=\"gridcell\" style=\"width:20%;\">603</td>], [<td class=\"\" role=\"gridcell\" style=\"width:50%;\"><a href=\"https://www.moonboard.com/Problems/View/368854/heartbreak-cross\" target=\"_blank\">HEARTBREAK CROSS</a></td>, <td class=\"\" role=\"gridcell\" style=\"width:15%;\">6B+</td>, <td class=\"\" role=\"gridcell\" style=\"width:15%;\"> 0 </td>, <td class=\"\" role=\"gridcell\" style=\"width:20%;\">603</td>], [<td class=\"\" role=\"gridcell\" style=\"width:50%;\"><a href=\"https://www.moonboard.com/Problems/View/373590/ingen-repsket\" target=\"_blank\">INGEN REPSKET</a></td>, <td class=\"\" role=\"gridcell\" style=\"width:15%;\">6B+</td>, <td class=\"\" role=\"gridcell\" style=\"width:15%;\"> 0 </td>, <td class=\"\" role=\"gridcell\" style=\"width:20%;\">603</td>], [<td class=\"\" role=\"gridcell\" style=\"width:50%;\"><a href=\"https://www.moonboard.com/Problems/View/358912/pakkeleg\" target=\"_blank\">PAKKELEG</a></td>, <td class=\"\" role=\"gridcell\" style=\"width:15%;\">6B+</td>, <td class=\"\" role=\"gridcell\" style=\"width:15%;\"> 0 </td>, <td class=\"\" role=\"gridcell\" style=\"width:20%;\">603</td>], [<td class=\"\" role=\"gridcell\" style=\"width:50%;\"><a href=\"https://www.moonboard.com/Problems/View/369247/satay\" target=\"_blank\">SATAY</a></td>, <td class=\"\" role=\"gridcell\" style=\"width:15%;\">6B+</td>, <td class=\"\" role=\"gridcell\" style=\"width:15%;\"> 0 </td>, <td class=\"\" role=\"gridcell\" style=\"width:20%;\">603</td>], [<td class=\"\" role=\"gridcell\" style=\"width:50%;\"><a href=\"https://www.moonboard.com/Problems/View/368763/shooting-blanks\" target=\"_blank\">SHOOTING BLANKS</a></td>, <td class=\"\" role=\"gridcell\" style=\"width:15%;\">6B+</td>, <td class=\"\" role=\"gridcell\" style=\"width:15%;\"> 0 </td>, <td class=\"\" role=\"gridcell\" style=\"width:20%;\">603</td>], [<td class=\"\" role=\"gridcell\" style=\"width:50%;\"><a href=\"https://www.moonboard.com/Problems/View/365753/sick-brah\" target=\"_blank\">SICK BRAH</a></td>, <td class=\"\" role=\"gridcell\" style=\"width:15%;\">6B+</td>, <td class=\"\" role=\"gridcell\" style=\"width:15%;\"> 0 </td>, <td class=\"\" role=\"gridcell\" style=\"width:20%;\">603</td>], [<td class=\"\" role=\"gridcell\" style=\"width:50%;\"><a href=\"https://www.moonboard.com/Problems/View/365836/social-distancing\" target=\"_blank\">SOCIAL DISTANCING</a></td>, <td class=\"\" role=\"gridcell\" style=\"width:15%;\">6B+</td>, <td class=\"\" role=\"gridcell\" style=\"width:15%;\"> 0 </td>, <td class=\"\" role=\"gridcell\" style=\"width:20%;\">603</td>], [<td class=\"\" role=\"gridcell\" style=\"width:50%;\"><a href=\"https://www.moonboard.com/Problems/View/392771/stark\" target=\"_blank\">STARK</a></td>, <td class=\"\" role=\"gridcell\" style=\"width:15%;\">6B+</td>, <td class=\"\" role=\"gridcell\" style=\"width:15%;\"> 0 </td>, <td class=\"\" role=\"gridcell\" style=\"width:20%;\">603</td>], [<td class=\"\" role=\"gridcell\" style=\"width:50%;\"><a href=\"https://www.moonboard.com/Problems/View/371946/summer-vibe\" target=\"_blank\">SUMMER VIBE</a></td>, <td class=\"\" role=\"gridcell\" style=\"width:15%;\">6B+</td>, <td class=\"\" role=\"gridcell\" style=\"width:15%;\"> 0 </td>, <td class=\"\" role=\"gridcell\" style=\"width:20%;\">603</td>], [<td class=\"\" role=\"gridcell\" style=\"width:50%;\"><a href=\"https://www.moonboard.com/Problems/View/365754/unda-clank-cross\" target=\"_blank\">UNDA CLANK CROSS</a></td>, <td class=\"\" role=\"gridcell\" style=\"width:15%;\">6B+</td>, <td class=\"\" role=\"gridcell\" style=\"width:15%;\"> 0 </td>, <td class=\"\" role=\"gridcell\" style=\"width:20%;\">603</td>], [<td class=\"\" role=\"gridcell\" style=\"width:50%;\"><a href=\"https://www.moonboard.com/Problems/View/388008/wood-mood\" target=\"_blank\">WOOD MOOD</a></td>, <td class=\"\" role=\"gridcell\" style=\"width:15%;\">6B+</td>, <td class=\"\" role=\"gridcell\" style=\"width:15%;\"> 0 </td>, <td class=\"\" role=\"gridcell\" style=\"width:20%;\">603</td>], [<td class=\"\" role=\"gridcell\" style=\"width:50%;\"><a href=\"https://www.moonboard.com/Problems/View/379680/chauchau-tartine\" target=\"_blank\">CHAUCHAU TARTINE</a></td>, <td class=\"\" role=\"gridcell\" style=\"width:15%;\">6B</td>, <td class=\"\" role=\"gridcell\" style=\"width:15%;\"> 0 </td>, <td class=\"\" role=\"gridcell\" style=\"width:20%;\">553</td>], [<td class=\"\" role=\"gridcell\" style=\"width:50%;\"><a href=\"https://www.moonboard.com/Problems/View/375854/em-schw%C3%BCggligi-hooktopia\" target=\"_blank\">EM SCHWÜGGLIGI HOOKTOPIA</a></td>, <td class=\"\" role=\"gridcell\" style=\"width:15%;\">6B</td>, <td class=\"\" role=\"gridcell\" style=\"width:15%;\"> 0 </td>, <td class=\"\" role=\"gridcell\" style=\"width:20%;\">553</td>], [<td class=\"\" role=\"gridcell\" style=\"width:50%;\"><a href=\"https://www.moonboard.com/Problems/View/369278/espresso\" target=\"_blank\">ESPRESSO</a></td>, <td class=\"\" role=\"gridcell\" style=\"width:15%;\">6B</td>, <td class=\"\" role=\"gridcell\" style=\"width:15%;\"> 0 </td>, <td class=\"\" role=\"gridcell\" style=\"width:20%;\">553</td>], [<td class=\"\" role=\"gridcell\" style=\"width:50%;\"><a href=\"https://www.moonboard.com/Problems/View/368314/luminous-times\" target=\"_blank\">LUMINOUS TIMES</a></td>, <td class=\"\" role=\"gridcell\" style=\"width:15%;\">6B</td>, <td class=\"\" role=\"gridcell\" style=\"width:15%;\"> 0 </td>, <td class=\"\" role=\"gridcell\" style=\"width:20%;\">553</td>], [<td style=\"width:50%;\"> </td>, <td> </td>, <td>0</td>, <td style=\"width:20%;\">74,701</td>]]\n"
     ]
    }
   ],
   "source": [
    "with open(local_file) as f:\n",
    "    soup = BeautifulSoup(f)\n",
    "    benchMark_table = soup.find('div', {'id': 'grdBenchmarks'})\n",
    "    rows = benchMark_table.find_all('tr')\n",
    "    row_data = [row.find_all('td') for row in rows[1:]]\n",
    "    print(row_data)"
   ]
  },
  {
   "cell_type": "code",
   "execution_count": 218,
   "metadata": {},
   "outputs": [
    {
     "data": {
      "text/plain": [
       "[('C13', 'hold'),\n",
       " ('D18', 'end'),\n",
       " ('E6', 'start'),\n",
       " ('F10', 'hold'),\n",
       " ('H5', 'start')]"
      ]
     },
     "execution_count": 218,
     "metadata": {},
     "output_type": "execute_result"
    }
   ],
   "source": [
    "from time import sleep \n",
    "\n",
    "y, links = strip_local_page('./tables/2016_40.html')\n",
    "get_holds(links[32])"
   ]
  },
  {
   "cell_type": "markdown",
   "metadata": {},
   "source": [
    "## Parsing local snapshot into `DataFrame`"
   ]
  },
  {
   "cell_type": "code",
   "execution_count": 234,
   "metadata": {},
   "outputs": [],
   "source": [
    "import pandas as pd\n",
    "\n",
    "def local_file_to_df(filename: str):\n",
    "    df = pd.DataFrame(columns=['holds', 'grade'])\n",
    "    y, links = strip_local_page(filename)\n",
    "    df['grade'] = y\n",
    "    holds = [get_holds(link) for link in links]\n",
    "    df['holds'] = holds \n",
    "    return df"
   ]
  },
  {
   "cell_type": "code",
   "execution_count": 235,
   "metadata": {},
   "outputs": [
    {
     "data": {
      "text/html": [
       "<div>\n",
       "<style scoped>\n",
       "    .dataframe tbody tr th:only-of-type {\n",
       "        vertical-align: middle;\n",
       "    }\n",
       "\n",
       "    .dataframe tbody tr th {\n",
       "        vertical-align: top;\n",
       "    }\n",
       "\n",
       "    .dataframe thead th {\n",
       "        text-align: right;\n",
       "    }\n",
       "</style>\n",
       "<table border=\"1\" class=\"dataframe\">\n",
       "  <thead>\n",
       "    <tr style=\"text-align: right;\">\n",
       "      <th></th>\n",
       "      <th>holds</th>\n",
       "      <th>grade</th>\n",
       "    </tr>\n",
       "  </thead>\n",
       "  <tbody>\n",
       "    <tr>\n",
       "      <th>0</th>\n",
       "      <td>[(C12, end), (E3, start), (H11, hold), (H10, h...</td>\n",
       "      <td>7A+</td>\n",
       "    </tr>\n",
       "    <tr>\n",
       "      <th>1</th>\n",
       "      <td>[(A12, end), (B12, end), (H9, hold), (I5, star...</td>\n",
       "      <td>7A</td>\n",
       "    </tr>\n",
       "    <tr>\n",
       "      <th>2</th>\n",
       "      <td>[(A9, hold), (B12, end), (C11, hold), (C12, en...</td>\n",
       "      <td>6A+</td>\n",
       "    </tr>\n",
       "    <tr>\n",
       "      <th>3</th>\n",
       "      <td>[(D9, hold), (E4, start), (G7, hold), (G12, ho...</td>\n",
       "      <td>6B</td>\n",
       "    </tr>\n",
       "    <tr>\n",
       "      <th>4</th>\n",
       "      <td>[(B6, start), (G9, hold), (H12, end)]</td>\n",
       "      <td>7C+</td>\n",
       "    </tr>\n",
       "    <tr>\n",
       "      <th>5</th>\n",
       "      <td>[(D12, end), (E10, hold), (F8, hold), (G6, sta...</td>\n",
       "      <td>6C</td>\n",
       "    </tr>\n",
       "    <tr>\n",
       "      <th>6</th>\n",
       "      <td>[(A6, start), (G7, hold), (G11, hold), (I12, e...</td>\n",
       "      <td>7A+</td>\n",
       "    </tr>\n",
       "    <tr>\n",
       "      <th>7</th>\n",
       "      <td>[(B12, end), (C9, hold), (C12, end), (D5, star...</td>\n",
       "      <td>6C</td>\n",
       "    </tr>\n",
       "    <tr>\n",
       "      <th>8</th>\n",
       "      <td>[(A12, end), (D4, hold), (E10, hold), (E12, ho...</td>\n",
       "      <td>7A+</td>\n",
       "    </tr>\n",
       "    <tr>\n",
       "      <th>9</th>\n",
       "      <td>[(A6, start), (B7, hold), (F6, hold), (G12, en...</td>\n",
       "      <td>6A+</td>\n",
       "    </tr>\n",
       "    <tr>\n",
       "      <th>10</th>\n",
       "      <td>[(E7, hold), (G12, end), (H9, hold), (I4, star...</td>\n",
       "      <td>6B+</td>\n",
       "    </tr>\n",
       "    <tr>\n",
       "      <th>11</th>\n",
       "      <td>[(A4, hold), (A12, end), (C11, hold), (H12, ho...</td>\n",
       "      <td>8A</td>\n",
       "    </tr>\n",
       "    <tr>\n",
       "      <th>12</th>\n",
       "      <td>[(A2, hold), (A9, hold), (B7, hold), (C11, hol...</td>\n",
       "      <td>6B+</td>\n",
       "    </tr>\n",
       "    <tr>\n",
       "      <th>13</th>\n",
       "      <td>[(D4, start), (F10, hold), (H7, hold), (J12, e...</td>\n",
       "      <td>6C</td>\n",
       "    </tr>\n",
       "    <tr>\n",
       "      <th>14</th>\n",
       "      <td>[(B3, start), (C8, hold), (D10, hold), (E8, ho...</td>\n",
       "      <td>6C+</td>\n",
       "    </tr>\n",
       "    <tr>\n",
       "      <th>15</th>\n",
       "      <td>[(B5, start), (C8, hold), (D4, start), (E11, h...</td>\n",
       "      <td>6A+</td>\n",
       "    </tr>\n",
       "    <tr>\n",
       "      <th>16</th>\n",
       "      <td>[(A4, hold), (B12, end), (C9, hold), (C11, hol...</td>\n",
       "      <td>7A</td>\n",
       "    </tr>\n",
       "    <tr>\n",
       "      <th>17</th>\n",
       "      <td>[(F8, hold), (G12, end), (H11, hold), (H7, hol...</td>\n",
       "      <td>6B</td>\n",
       "    </tr>\n",
       "    <tr>\n",
       "      <th>18</th>\n",
       "      <td>[(C12, end), (D12, end), (D9, hold), (G5, star...</td>\n",
       "      <td>6B+</td>\n",
       "    </tr>\n",
       "    <tr>\n",
       "      <th>19</th>\n",
       "      <td>[(E3, start), (F8, hold), (G10, hold), (J12, e...</td>\n",
       "      <td>7A+</td>\n",
       "    </tr>\n",
       "    <tr>\n",
       "      <th>20</th>\n",
       "      <td>[(A8, hold), (D11, hold), (D4, start), (E10, h...</td>\n",
       "      <td>7A+</td>\n",
       "    </tr>\n",
       "    <tr>\n",
       "      <th>21</th>\n",
       "      <td>[(A7, hold), (B9, hold), (B5, start), (G9, hol...</td>\n",
       "      <td>6C+</td>\n",
       "    </tr>\n",
       "    <tr>\n",
       "      <th>22</th>\n",
       "      <td>[(C7, hold), (E4, start), (G9, hold), (G11, ho...</td>\n",
       "      <td>7A+</td>\n",
       "    </tr>\n",
       "    <tr>\n",
       "      <th>23</th>\n",
       "      <td>[(E12, end), (G6, start), (G9, hold), (I6, sta...</td>\n",
       "      <td>6C+</td>\n",
       "    </tr>\n",
       "    <tr>\n",
       "      <th>24</th>\n",
       "      <td>[(A12, end), (B5, hold), (E9, hold), (F11, hol...</td>\n",
       "      <td>6C+</td>\n",
       "    </tr>\n",
       "    <tr>\n",
       "      <th>25</th>\n",
       "      <td>[(A6, start), (A9, hold), (D4, hold), (E10, ho...</td>\n",
       "      <td>6A+</td>\n",
       "    </tr>\n",
       "    <tr>\n",
       "      <th>26</th>\n",
       "      <td>[(G4, start), (G12, end), (J7, hold), (J4, sta...</td>\n",
       "      <td>6C</td>\n",
       "    </tr>\n",
       "    <tr>\n",
       "      <th>27</th>\n",
       "      <td>[(F12, end), (F2, hold), (G5, start), (J4, sta...</td>\n",
       "      <td>6C</td>\n",
       "    </tr>\n",
       "    <tr>\n",
       "      <th>28</th>\n",
       "      <td>[(A9, hold), (D4, start), (F11, hold), (G11, h...</td>\n",
       "      <td>6C</td>\n",
       "    </tr>\n",
       "    <tr>\n",
       "      <th>29</th>\n",
       "      <td>[(C12, end), (D4, hold), (G4, start), (G12, ho...</td>\n",
       "      <td>7A</td>\n",
       "    </tr>\n",
       "    <tr>\n",
       "      <th>30</th>\n",
       "      <td>[(C12, end), (D4, hold), (G4, start), (G11, ho...</td>\n",
       "      <td>6A+</td>\n",
       "    </tr>\n",
       "    <tr>\n",
       "      <th>31</th>\n",
       "      <td>[(A12, end), (C12, hold), (F2, hold), (G6, sta...</td>\n",
       "      <td>7B</td>\n",
       "    </tr>\n",
       "    <tr>\n",
       "      <th>32</th>\n",
       "      <td>[(B5, start), (C8, hold), (E6, start), (F2, ho...</td>\n",
       "      <td>6B+</td>\n",
       "    </tr>\n",
       "    <tr>\n",
       "      <th>33</th>\n",
       "      <td>[(C6, start), (E6, start), (E9, hold), (G12, e...</td>\n",
       "      <td>6C</td>\n",
       "    </tr>\n",
       "    <tr>\n",
       "      <th>34</th>\n",
       "      <td>[(A6, start), (A8, hold), (A11, hold), (E4, ho...</td>\n",
       "      <td>7A</td>\n",
       "    </tr>\n",
       "    <tr>\n",
       "      <th>35</th>\n",
       "      <td>[(B9, hold), (D4, start), (G10, hold), (H12, e...</td>\n",
       "      <td>7A</td>\n",
       "    </tr>\n",
       "    <tr>\n",
       "      <th>36</th>\n",
       "      <td>[(A3, hold), (A12, end), (C10, hold), (D11, ho...</td>\n",
       "      <td>7B</td>\n",
       "    </tr>\n",
       "    <tr>\n",
       "      <th>37</th>\n",
       "      <td>[(C10, hold), (D12, end), (D4, hold), (I8, hol...</td>\n",
       "      <td>7A+</td>\n",
       "    </tr>\n",
       "    <tr>\n",
       "      <th>38</th>\n",
       "      <td>[(C5, start), (E10, hold), (F6, start), (H12, ...</td>\n",
       "      <td>6B+</td>\n",
       "    </tr>\n",
       "    <tr>\n",
       "      <th>39</th>\n",
       "      <td>[(B3, start), (C12, end), (D8, hold), (E6, sta...</td>\n",
       "      <td>6B</td>\n",
       "    </tr>\n",
       "  </tbody>\n",
       "</table>\n",
       "</div>"
      ],
      "text/plain": [
       "                                                holds grade\n",
       "0   [(C12, end), (E3, start), (H11, hold), (H10, h...   7A+\n",
       "1   [(A12, end), (B12, end), (H9, hold), (I5, star...    7A\n",
       "2   [(A9, hold), (B12, end), (C11, hold), (C12, en...   6A+\n",
       "3   [(D9, hold), (E4, start), (G7, hold), (G12, ho...    6B\n",
       "4               [(B6, start), (G9, hold), (H12, end)]   7C+\n",
       "5   [(D12, end), (E10, hold), (F8, hold), (G6, sta...    6C\n",
       "6   [(A6, start), (G7, hold), (G11, hold), (I12, e...   7A+\n",
       "7   [(B12, end), (C9, hold), (C12, end), (D5, star...    6C\n",
       "8   [(A12, end), (D4, hold), (E10, hold), (E12, ho...   7A+\n",
       "9   [(A6, start), (B7, hold), (F6, hold), (G12, en...   6A+\n",
       "10  [(E7, hold), (G12, end), (H9, hold), (I4, star...   6B+\n",
       "11  [(A4, hold), (A12, end), (C11, hold), (H12, ho...    8A\n",
       "12  [(A2, hold), (A9, hold), (B7, hold), (C11, hol...   6B+\n",
       "13  [(D4, start), (F10, hold), (H7, hold), (J12, e...    6C\n",
       "14  [(B3, start), (C8, hold), (D10, hold), (E8, ho...   6C+\n",
       "15  [(B5, start), (C8, hold), (D4, start), (E11, h...   6A+\n",
       "16  [(A4, hold), (B12, end), (C9, hold), (C11, hol...    7A\n",
       "17  [(F8, hold), (G12, end), (H11, hold), (H7, hol...    6B\n",
       "18  [(C12, end), (D12, end), (D9, hold), (G5, star...   6B+\n",
       "19  [(E3, start), (F8, hold), (G10, hold), (J12, e...   7A+\n",
       "20  [(A8, hold), (D11, hold), (D4, start), (E10, h...   7A+\n",
       "21  [(A7, hold), (B9, hold), (B5, start), (G9, hol...   6C+\n",
       "22  [(C7, hold), (E4, start), (G9, hold), (G11, ho...   7A+\n",
       "23  [(E12, end), (G6, start), (G9, hold), (I6, sta...   6C+\n",
       "24  [(A12, end), (B5, hold), (E9, hold), (F11, hol...   6C+\n",
       "25  [(A6, start), (A9, hold), (D4, hold), (E10, ho...   6A+\n",
       "26  [(G4, start), (G12, end), (J7, hold), (J4, sta...    6C\n",
       "27  [(F12, end), (F2, hold), (G5, start), (J4, sta...    6C\n",
       "28  [(A9, hold), (D4, start), (F11, hold), (G11, h...    6C\n",
       "29  [(C12, end), (D4, hold), (G4, start), (G12, ho...    7A\n",
       "30  [(C12, end), (D4, hold), (G4, start), (G11, ho...   6A+\n",
       "31  [(A12, end), (C12, hold), (F2, hold), (G6, sta...    7B\n",
       "32  [(B5, start), (C8, hold), (E6, start), (F2, ho...   6B+\n",
       "33  [(C6, start), (E6, start), (E9, hold), (G12, e...    6C\n",
       "34  [(A6, start), (A8, hold), (A11, hold), (E4, ho...    7A\n",
       "35  [(B9, hold), (D4, start), (G10, hold), (H12, e...    7A\n",
       "36  [(A3, hold), (A12, end), (C10, hold), (D11, ho...    7B\n",
       "37  [(C10, hold), (D12, end), (D4, hold), (I8, hol...   7A+\n",
       "38  [(C5, start), (E10, hold), (F6, start), (H12, ...   6B+\n",
       "39  [(B3, start), (C12, end), (D8, hold), (E6, sta...    6B"
      ]
     },
     "execution_count": 235,
     "metadata": {},
     "output_type": "execute_result"
    }
   ],
   "source": [
    "df_2020_40 = local_file_to_df(local_file)\n",
    "df_2020_40"
   ]
  },
  {
   "cell_type": "markdown",
   "metadata": {},
   "source": [
    "## Saving `DataFrame` of holds to CSV to train ML models later"
   ]
  },
  {
   "cell_type": "code",
   "execution_count": 259,
   "metadata": {},
   "outputs": [
    {
     "ename": "IndexError",
     "evalue": "list index out of range",
     "output_type": "error",
     "traceback": [
      "\u001b[0;31m---------------------------------------------------------------------------\u001b[0m",
      "\u001b[0;31mIndexError\u001b[0m                                Traceback (most recent call last)",
      "Cell \u001b[0;32mIn[259], line 15\u001b[0m\n\u001b[1;32m     13\u001b[0m \u001b[38;5;28;01mfor\u001b[39;00m file \u001b[38;5;129;01min\u001b[39;00m year_path\u001b[38;5;241m.\u001b[39miterdir():\n\u001b[1;32m     14\u001b[0m     filename \u001b[38;5;241m=\u001b[39m \u001b[38;5;28mstr\u001b[39m(file)\n\u001b[0;32m---> 15\u001b[0m     current_grades, links \u001b[38;5;241m=\u001b[39m \u001b[43mstrip_local_page\u001b[49m\u001b[43m(\u001b[49m\u001b[43mfilename\u001b[49m\u001b[43m)\u001b[49m\n\u001b[1;32m     16\u001b[0m     grades\u001b[38;5;241m.\u001b[39mextend(current_grades)\n\u001b[1;32m     17\u001b[0m     \u001b[38;5;28;01mfor\u001b[39;00m link \u001b[38;5;129;01min\u001b[39;00m links:\n",
      "Cell \u001b[0;32mIn[210], line 10\u001b[0m, in \u001b[0;36mstrip_local_page\u001b[0;34m(filename)\u001b[0m\n\u001b[1;32m      8\u001b[0m links \u001b[38;5;241m=\u001b[39m [row[\u001b[38;5;241m0\u001b[39m]\u001b[38;5;241m.\u001b[39mfind(\u001b[38;5;124m'\u001b[39m\u001b[38;5;124ma\u001b[39m\u001b[38;5;124m'\u001b[39m, href\u001b[38;5;241m=\u001b[39m\u001b[38;5;28;01mTrue\u001b[39;00m) \u001b[38;5;28;01mfor\u001b[39;00m row \u001b[38;5;129;01min\u001b[39;00m row_data]\n\u001b[1;32m      9\u001b[0m links \u001b[38;5;241m=\u001b[39m [link[\u001b[38;5;124m'\u001b[39m\u001b[38;5;124mhref\u001b[39m\u001b[38;5;124m'\u001b[39m] \u001b[38;5;28;01mfor\u001b[39;00m link \u001b[38;5;129;01min\u001b[39;00m links \u001b[38;5;28;01mif\u001b[39;00m link]\n\u001b[0;32m---> 10\u001b[0m \u001b[38;5;28;01mreturn\u001b[39;00m \u001b[38;5;28mlist\u001b[39m(\u001b[38;5;28;43mlist\u001b[39;49m\u001b[43m(\u001b[49m\u001b[38;5;28;43mzip\u001b[39;49m\u001b[43m(\u001b[49m\u001b[38;5;241;43m*\u001b[39;49m\u001b[43my\u001b[49m\u001b[43m)\u001b[49m\u001b[43m)\u001b[49m\u001b[43m[\u001b[49m\u001b[38;5;241;43m0\u001b[39;49m\u001b[43m]\u001b[49m)[:\u001b[38;5;241m-\u001b[39m\u001b[38;5;241m1\u001b[39m], links\n",
      "\u001b[0;31mIndexError\u001b[0m: list index out of range"
     ]
    }
   ],
   "source": [
    "import pathlib \n",
    "import glob \n",
    "\n",
    "data_dir = './tables/'\n",
    "path = pathlib.Path(data_dir)\n",
    "\n",
    "for x in path.iterdir():\n",
    "    if x.is_dir():\n",
    "        df_filename = x.name \n",
    "        holds, grades = [], []\n",
    "        \n",
    "        year_path = pathlib.Path(x)\n",
    "        for file in year_path.iterdir():\n",
    "            filename = str(file)\n",
    "            current_grades, links = strip_local_page(filename)\n",
    "            grades.extend(current_grades)\n",
    "            for link in links:\n",
    "                holds.append(get_holds(link))\n",
    "        \n",
    "        df = pd.DataFrame(columns=['holds', 'grade'])\n",
    "        df['grade'] = grades \n",
    "        df['holds'] = holds \n",
    "        \n",
    "        df.to_csv(f'{df_filename}.csv')\n",
    "    "
   ]
  },
  {
   "cell_type": "code",
   "execution_count": 307,
   "metadata": {},
   "outputs": [],
   "source": [
    "def get_data(year: int, angle: int):\n",
    "    data_dir = f'./tables/{year}_{angle}/'\n",
    "    path = pathlib.Path(data_dir)\n",
    "    holds, grades = [], []\n",
    "    for file in path.iterdir():\n",
    "        if not file.is_dir() and file.suffix == '.html':\n",
    "            print(f'\\tGetting {file}')\n",
    "            page_grades, page_links = strip_local_page(str(file))\n",
    "            page_holds = []\n",
    "            grades.extend(page_grades)\n",
    "            for link in page_links:\n",
    "                try:\n",
    "                    page_holds.append(get_holds(link,sleepTime=0.5))\n",
    "                except:\n",
    "                    page_holds.append(None)\n",
    "            holds.extend(page_holds)\n",
    "    \n",
    "    df = pd.DataFrame(columns=['holds', 'grades'])\n",
    "    df['holds'], df['grades'] = holds, grades \n",
    "    return df"
   ]
  },
  {
   "cell_type": "code",
   "execution_count": 308,
   "metadata": {},
   "outputs": [
    {
     "name": "stdout",
     "output_type": "stream",
     "text": [
      "Scraping year=2017, angle=40...\n",
      "\tGetting tables/2017_40/2017_40_3.html\n",
      "\tGetting tables/2017_40/2017_40_2.html\n",
      "\tGetting tables/2017_40/2017_40_5.html\n",
      "\tGetting tables/2017_40/2017_40_9.html\n",
      "\tGetting tables/2017_40/2017_40_8.html\n",
      "\tGetting tables/2017_40/2017_40_4.html\n",
      "\tGetting tables/2017_40/2017_40_7.html\n",
      "\tGetting tables/2017_40/2017_40_6.html\n",
      "\tGetting tables/2017_40/2017_40_1.html\n",
      "Finished year=2017, angle=40!\n",
      "Scraping year=2016, angle=40...\n",
      "\tGetting tables/2016_40/2016_40_5.html\n",
      "\tGetting tables/2016_40/2016_40_9.html\n",
      "\tGetting tables/2016_40/2016_40_8.html\n",
      "\tGetting tables/2016_40/2016_40_4.html\n",
      "\tGetting tables/2016_40/2016_40_3.html\n",
      "\tGetting tables/2016_40/2016_40_10.html\n",
      "\tGetting tables/2016_40/2016_40_11.html\n",
      "\tGetting tables/2016_40/2016_40_2.html\n",
      "\tGetting tables/2016_40/2016_40_12.html\n",
      "\tGetting tables/2016_40/2016_40_1.html\n",
      "\tGetting tables/2016_40/2016_40_13.html\n",
      "\tGetting tables/2016_40/2016_40_14.html\n",
      "\tGetting tables/2016_40/2016_40_7.html\n",
      "\tGetting tables/2016_40/2016_40_6.html\n",
      "Finished year=2016, angle=40!\n"
     ]
    }
   ],
   "source": [
    "for (year, angle) in [(2017, 40), (2016, 40)]:\n",
    "    print(f'Scraping year={year}, angle={angle}...')\n",
    "    df = get_data(year, angle)\n",
    "    df.to_csv(f'{year}_{angle}.csv')\n",
    "    print(f'Finished year={year}, angle={angle}!')"
   ]
  }
 ],
 "metadata": {
  "kernelspec": {
   "display_name": "base",
   "language": "python",
   "name": "python3"
  },
  "language_info": {
   "codemirror_mode": {
    "name": "ipython",
    "version": 3
   },
   "file_extension": ".py",
   "mimetype": "text/x-python",
   "name": "python",
   "nbconvert_exporter": "python",
   "pygments_lexer": "ipython3",
   "version": "3.9.18"
  }
 },
 "nbformat": 4,
 "nbformat_minor": 2
}
