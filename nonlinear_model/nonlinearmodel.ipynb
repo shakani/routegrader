{
 "cells": [
  {
   "cell_type": "markdown",
   "metadata": {},
   "source": [
    "# Linear + Non-linear Regression"
   ]
  },
  {
   "cell_type": "markdown",
   "metadata": {},
   "source": [
    "## Imports"
   ]
  },
  {
   "cell_type": "code",
   "execution_count": 130,
   "metadata": {},
   "outputs": [],
   "source": [
    "import numpy as np\n",
    "import pandas as pd \n",
    "import seaborn as sns\n",
    "sns.set_style('darkgrid')\n",
    "import sklearn"
   ]
  },
  {
   "cell_type": "code",
   "execution_count": 131,
   "metadata": {},
   "outputs": [
    {
     "data": {
      "text/html": [
       "<div>\n",
       "<style scoped>\n",
       "    .dataframe tbody tr th:only-of-type {\n",
       "        vertical-align: middle;\n",
       "    }\n",
       "\n",
       "    .dataframe tbody tr th {\n",
       "        vertical-align: top;\n",
       "    }\n",
       "\n",
       "    .dataframe thead th {\n",
       "        text-align: right;\n",
       "    }\n",
       "</style>\n",
       "<table border=\"1\" class=\"dataframe\">\n",
       "  <thead>\n",
       "    <tr style=\"text-align: right;\">\n",
       "      <th></th>\n",
       "      <th>holds</th>\n",
       "      <th>grades</th>\n",
       "      <th>year</th>\n",
       "      <th>angle</th>\n",
       "    </tr>\n",
       "  </thead>\n",
       "  <tbody>\n",
       "    <tr>\n",
       "      <th>0</th>\n",
       "      <td>[('A18', 'end'), ('C10', 'hold'), ('D15', 'hol...</td>\n",
       "      <td>7B</td>\n",
       "      <td>2016</td>\n",
       "      <td>40</td>\n",
       "    </tr>\n",
       "    <tr>\n",
       "      <th>1</th>\n",
       "      <td>[('E18', 'end'), ('F13', 'hold'), ('G6', 'star...</td>\n",
       "      <td>7B</td>\n",
       "      <td>2016</td>\n",
       "      <td>40</td>\n",
       "    </tr>\n",
       "    <tr>\n",
       "      <th>2</th>\n",
       "      <td>[('E18', 'end'), ('F14', 'hold'), ('F9', 'hold...</td>\n",
       "      <td>7B</td>\n",
       "      <td>2016</td>\n",
       "      <td>40</td>\n",
       "    </tr>\n",
       "    <tr>\n",
       "      <th>3</th>\n",
       "      <td>[('B3', 'start'), ('E10', 'hold'), ('F7', 'hol...</td>\n",
       "      <td>7B</td>\n",
       "      <td>2016</td>\n",
       "      <td>40</td>\n",
       "    </tr>\n",
       "    <tr>\n",
       "      <th>4</th>\n",
       "      <td>[('D10', 'hold'), ('H18', 'end'), ('H14', 'hol...</td>\n",
       "      <td>7B</td>\n",
       "      <td>2016</td>\n",
       "      <td>40</td>\n",
       "    </tr>\n",
       "  </tbody>\n",
       "</table>\n",
       "</div>"
      ],
      "text/plain": [
       "                                               holds grades  year  angle\n",
       "0  [('A18', 'end'), ('C10', 'hold'), ('D15', 'hol...     7B  2016     40\n",
       "1  [('E18', 'end'), ('F13', 'hold'), ('G6', 'star...     7B  2016     40\n",
       "2  [('E18', 'end'), ('F14', 'hold'), ('F9', 'hold...     7B  2016     40\n",
       "3  [('B3', 'start'), ('E10', 'hold'), ('F7', 'hol...     7B  2016     40\n",
       "4  [('D10', 'hold'), ('H18', 'end'), ('H14', 'hol...     7B  2016     40"
      ]
     },
     "execution_count": 131,
     "metadata": {},
     "output_type": "execute_result"
    }
   ],
   "source": [
    "df = pd.read_csv('../webscraping/moonboard_data.csv', index_col=0)\n",
    "df = df.dropna()\n",
    "df = df.query(\"angle == 40\")\n",
    "df.head()"
   ]
  },
  {
   "cell_type": "code",
   "execution_count": 132,
   "metadata": {},
   "outputs": [
    {
     "data": {
      "text/plain": [
       "<Axes: xlabel='grades', ylabel='Count'>"
      ]
     },
     "execution_count": 132,
     "metadata": {},
     "output_type": "execute_result"
    },
    {
     "data": {
      "image/png": "[encoded data removed]",
      "text/plain": [
       "<Figure size 640x480 with 1 Axes>"
      ]
     },
     "metadata": {},
     "output_type": "display_data"
    }
   ],
   "source": [
    "sns.histplot(data=df.sort_values('grades'), x='grades')"
   ]
  },
  {
   "cell_type": "markdown",
   "metadata": {},
   "source": [
    "## Encoding holds as dictionary\n",
    "Here we create a custom transformer which:\n",
    "- drops null values from the `DataFrame`\n",
    "- parses the string of holds into a list of holds\n",
    "- encodes holds as a dictionary we can pass to `DictVectorizer`"
   ]
  },
  {
   "cell_type": "code",
   "execution_count": 133,
   "metadata": {},
   "outputs": [],
   "source": [
    "from sklearn.base import BaseEstimator\n",
    "from sklearn.base import TransformerMixin \n",
    "from typing import List\n",
    "\n",
    "class DictEncoder(BaseEstimator, TransformerMixin):\n",
    "    def fit(self, X: pd.DataFrame, y=None):\n",
    "        return self\n",
    "    \n",
    "    def parseList(self, holdlist: List[str]):\n",
    "        \"\"\" Parses a list of holds into a dicionary of the form {hold : 1} \"\"\"\n",
    "        return {hold : 1 for hold, color in holdlist}\n",
    "    \n",
    "    def transform(self, X: pd.DataFrame):\n",
    "        \"\"\"\n",
    "        Encodes a list of holds into a dictionary of key, value pairs where\n",
    "        each key is a hold of the form [column index A-K][row index 1-18]\n",
    "        and each value is 1\n",
    "        \"\"\"\n",
    "        X = X.dropna() # first drop missing values (problem no longer exists)\n",
    "        X['holds'] = X['holds'].apply(lambda holdlist: self.parseList(eval(holdlist))) # parse strings to list of holds\n",
    "        return X['holds']"
   ]
  },
  {
   "cell_type": "code",
   "execution_count": 134,
   "metadata": {},
   "outputs": [],
   "source": [
    "from numpy import ndarray\n",
    "from sklearn.base import BaseEstimator \n",
    "from sklearn.base import TransformerMixin \n",
    "\n",
    "class LabelEncoder(BaseEstimator, TransformerMixin):\n",
    "    def fit(self, X: pd.DataFrame, y=None):\n",
    "        return self\n",
    "    \n",
    "    def grade_to_number(self, grade: str) -> int:\n",
    "        \"\"\" Maps a route's grade to an integer \"\"\"\n",
    "        grade_dict = {\n",
    "            '5+' : 0,\n",
    "            '6A' : 1,\n",
    "            '6A+' : 2,\n",
    "            '6B' : 3,\n",
    "            '6B+' : 4,\n",
    "            '6C' : 5,\n",
    "            '6C+' : 6,\n",
    "            '7A' : 7,\n",
    "            '7A+' : 8,\n",
    "            '7B' : 9,\n",
    "            '7B+' : 10,\n",
    "            '7C' : 11,\n",
    "            '7C+' : 12,\n",
    "            '8A' : 13,\n",
    "            '8A+' : 14,\n",
    "            '8B' : 15,\n",
    "            '8B+' : 16,\n",
    "            '8C' : 17,\n",
    "            '8C+' : 18\n",
    "        }\n",
    "        if grade not in grade_dict:\n",
    "            raise Exception(f\"Invalid Grade! {grade}\")\n",
    "        else:\n",
    "            return grade_dict[grade]\n",
    "    \n",
    "    def transform(self, X: pd.DataFrame):\n",
    "        \"\"\" Maps the `grades` column of a `DataFrame` to its numeric value (to be scaled) \"\"\"\n",
    "        X = X.dropna()\n",
    "        X['grades_numeric'] = X['grades'].apply(self.grade_to_number) # parse grades to numeric value\n",
    "        return X[['grades_numeric']]"
   ]
  },
  {
   "cell_type": "markdown",
   "metadata": {},
   "source": [
    "## Custom Linear + Non-linear regression"
   ]
  },
  {
   "cell_type": "code",
   "execution_count": 197,
   "metadata": {},
   "outputs": [],
   "source": [
    "from sklearn.linear_model import Ridge \n",
    "from sklearn.ensemble import RandomForestRegressor\n",
    "from xgboost import XGBRegressor\n",
    "from sklearn.base import BaseEstimator\n",
    "from sklearn.base import TransformerMixin \n",
    "from sklearn.metrics import r2_score\n",
    "\n",
    "class CustomRegression(BaseEstimator, TransformerMixin):\n",
    "    def __init__(self, alpha: float = 1., n_estimators: int = 100, min_samples_leaf: int = 2) -> None:\n",
    "        # Linear and nonlinear models\n",
    "        self.alpha = alpha\n",
    "        self.n_estimators = n_estimators\n",
    "        self.min_samples_leaf = min_samples_leaf\n",
    "        self.lm = Ridge(alpha = self.alpha)\n",
    "        self.nlm = RandomForestRegressor(n_estimators=self.n_estimators, min_samples_leaf=self.min_samples_leaf)\n",
    "        return \n",
    "        \n",
    "    def fit(self, X, y):\n",
    "        \"\"\"\n",
    "        Fits y to X with a linear model, then fits the residuals of y with a nonlinear model\n",
    "        \"\"\"\n",
    "        y = np.ravel(y)\n",
    "        self.lm.fit(X, y)\n",
    "        residuals = y - self.lm.predict(X) # subtract off prediction to get residuals\n",
    "        self.nlm.fit(X, residuals)\n",
    "        return self\n",
    "    \n",
    "    def predict(self, X):\n",
    "        linear_result = np.reshape(self.lm.predict(X), (-1, 1))\n",
    "        non_linear_result = np.reshape(self.nlm.predict(X), (-1, 1))\n",
    "        self.preds = linear_result + non_linear_result\n",
    "        return self.preds\n",
    "    \n",
    "    def score(self, X, y):\n",
    "        self.preds = self.predict(X)\n",
    "        return r2_score(y, self.preds)\n",
    "    \n",
    "class CustomBoostedRegression(BaseEstimator, TransformerMixin):\n",
    "    def __init__(self, alpha: float = 1., n_estimators: int = 100, learning_rate: float = 0.1) -> None:\n",
    "        self.alpha = alpha \n",
    "        self.n_estimators = n_estimators \n",
    "        self.learning_rate = learning_rate \n",
    "        self.lm = Ridge(alpha = self.alpha)\n",
    "        self.nlm = XGBRegressor(n_estimators = self.n_estimators, learning_rate = self.learning_rate)\n",
    "        return \n",
    "    \n",
    "    def fit(self, X, y):\n",
    "        \"\"\"\n",
    "        Fits y to X with a linear model, then fits the residuals of y with a nonlinear model\n",
    "        \"\"\"\n",
    "        y = np.ravel(y)\n",
    "        self.lm.fit(X, y)\n",
    "        residuals = y - self.lm.predict(X) # subtract off prediction to get residuals\n",
    "        self.nlm.fit(X, residuals)\n",
    "        return self\n",
    "    \n",
    "    def predict(self, X):\n",
    "        linear_result = np.reshape(self.lm.predict(X), (-1, 1))\n",
    "        non_linear_result = np.reshape(self.nlm.predict(X), (-1, 1))\n",
    "        self.preds = linear_result + non_linear_result\n",
    "        return self.preds\n",
    "    \n",
    "    def score(self, X, y):\n",
    "        self.preds = self.predict(X)\n",
    "        return r2_score(y, self.preds)\n",
    "    "
   ]
  },
  {
   "cell_type": "markdown",
   "metadata": {},
   "source": [
    "## Vectorize features using `DictVectorizer`"
   ]
  },
  {
   "cell_type": "markdown",
   "metadata": {},
   "source": [
    "## Build `Pipeline` to vectorize holds as feature matrix\n",
    "\n",
    "We'll also try `Ridge` regression on the features to figure out how good the model is"
   ]
  },
  {
   "cell_type": "code",
   "execution_count": 237,
   "metadata": {},
   "outputs": [],
   "source": [
    "from sklearn.preprocessing import StandardScaler\n",
    "from sklearn.pipeline import Pipeline \n",
    "from sklearn.feature_extraction import DictVectorizer\n",
    "from sklearn.linear_model import Ridge\n",
    "\n",
    "label_pipeline = Pipeline([\n",
    "    ('encoder', LabelEncoder()),\n",
    "    ('scaler', StandardScaler())\n",
    "])\n",
    "\n",
    "linear_model = Pipeline([\n",
    "    ('encoder', DictEncoder()),\n",
    "    ('vectorizer', DictVectorizer()),\n",
    "    ('model', Ridge(alpha=4.))\n",
    "])\n",
    "\n",
    "non_linear_model = Pipeline([\n",
    "    ('encoder', DictEncoder()),\n",
    "    ('vectorizer', DictVectorizer()),\n",
    "    ('model', CustomRegression(alpha=4., n_estimators=100, min_samples_leaf=10))\n",
    "])\n",
    "\n",
    "boosted_non_linear_model = Pipeline([\n",
    "    ('encoder', DictEncoder()),\n",
    "    ('vectorizer', DictVectorizer()),\n",
    "    ('model', CustomBoostedRegression(alpha=4., n_estimators=100, learning_rate=0.001))\n",
    "])\n",
    "\n",
    "xgb_model = Pipeline([\n",
    "    ('encoder', DictEncoder()),\n",
    "    ('vectorizer', DictVectorizer()),\n",
    "    ('model', XGBRegressor(n_estimators=100, learning_rate=0.1))\n",
    "])"
   ]
  },
  {
   "cell_type": "markdown",
   "metadata": {},
   "source": [
    "## Grid Search: Tuning `non_linear_model` hyperparameters"
   ]
  },
  {
   "cell_type": "code",
   "execution_count": 208,
   "metadata": {},
   "outputs": [
    {
     "data": {
      "text/html": [
       "<style>#sk-container-id-9 {color: black;}#sk-container-id-9 pre{padding: 0;}#sk-container-id-9 div.sk-toggleable {background-color: white;}#sk-container-id-9 label.sk-toggleable__label {cursor: pointer;display: block;width: 100%;margin-bottom: 0;padding: 0.3em;box-sizing: border-box;text-align: center;}#sk-container-id-9 label.sk-toggleable__label-arrow:before {content: \"▸\";float: left;margin-right: 0.25em;color: #696969;}#sk-container-id-9 label.sk-toggleable__label-arrow:hover:before {color: black;}#sk-container-id-9 div.sk-estimator:hover label.sk-toggleable__label-arrow:before {color: black;}#sk-container-id-9 div.sk-toggleable__content {max-height: 0;max-width: 0;overflow: hidden;text-align: left;background-color: #f0f8ff;}#sk-container-id-9 div.sk-toggleable__content pre {margin: 0.2em;color: black;border-radius: 0.25em;background-color: #f0f8ff;}#sk-container-id-9 input.sk-toggleable__control:checked~div.sk-toggleable__content {max-height: 200px;max-width: 100%;overflow: auto;}#sk-container-id-9 input.sk-toggleable__control:checked~label.sk-toggleable__label-arrow:before {content: \"▾\";}#sk-container-id-9 div.sk-estimator input.sk-toggleable__control:checked~label.sk-toggleable__label {background-color: #d4ebff;}#sk-container-id-9 div.sk-label input.sk-toggleable__control:checked~label.sk-toggleable__label {background-color: #d4ebff;}#sk-container-id-9 input.sk-hidden--visually {border: 0;clip: rect(1px 1px 1px 1px);clip: rect(1px, 1px, 1px, 1px);height: 1px;margin: -1px;overflow: hidden;padding: 0;position: absolute;width: 1px;}#sk-container-id-9 div.sk-estimator {font-family: monospace;background-color: #f0f8ff;border: 1px dotted black;border-radius: 0.25em;box-sizing: border-box;margin-bottom: 0.5em;}#sk-container-id-9 div.sk-estimator:hover {background-color: #d4ebff;}#sk-container-id-9 div.sk-parallel-item::after {content: \"\";width: 100%;border-bottom: 1px solid gray;flex-grow: 1;}#sk-container-id-9 div.sk-label:hover label.sk-toggleable__label {background-color: #d4ebff;}#sk-container-id-9 div.sk-serial::before {content: \"\";position: absolute;border-left: 1px solid gray;box-sizing: border-box;top: 0;bottom: 0;left: 50%;z-index: 0;}#sk-container-id-9 div.sk-serial {display: flex;flex-direction: column;align-items: center;background-color: white;padding-right: 0.2em;padding-left: 0.2em;position: relative;}#sk-container-id-9 div.sk-item {position: relative;z-index: 1;}#sk-container-id-9 div.sk-parallel {display: flex;align-items: stretch;justify-content: center;background-color: white;position: relative;}#sk-container-id-9 div.sk-item::before, #sk-container-id-9 div.sk-parallel-item::before {content: \"\";position: absolute;border-left: 1px solid gray;box-sizing: border-box;top: 0;bottom: 0;left: 50%;z-index: -1;}#sk-container-id-9 div.sk-parallel-item {display: flex;flex-direction: column;z-index: 1;position: relative;background-color: white;}#sk-container-id-9 div.sk-parallel-item:first-child::after {align-self: flex-end;width: 50%;}#sk-container-id-9 div.sk-parallel-item:last-child::after {align-self: flex-start;width: 50%;}#sk-container-id-9 div.sk-parallel-item:only-child::after {width: 0;}#sk-container-id-9 div.sk-dashed-wrapped {border: 1px dashed gray;margin: 0 0.4em 0.5em 0.4em;box-sizing: border-box;padding-bottom: 0.4em;background-color: white;}#sk-container-id-9 div.sk-label label {font-family: monospace;font-weight: bold;display: inline-block;line-height: 1.2em;}#sk-container-id-9 div.sk-label-container {text-align: center;}#sk-container-id-9 div.sk-container {/* jupyter's `normalize.less` sets `[hidden] { display: none; }` but bootstrap.min.css set `[hidden] { display: none !important; }` so we also need the `!important` here to be able to override the default hidden behavior on the sphinx rendered scikit-learn.org. See: https://github.com/scikit-learn/scikit-learn/issues/21755 */display: inline-block !important;position: relative;}#sk-container-id-9 div.sk-text-repr-fallback {display: none;}</style><div id=\"sk-container-id-9\" class=\"sk-top-container\"><div class=\"sk-text-repr-fallback\"><pre>Pipeline(steps=[(&#x27;encoder&#x27;, DictEncoder()), (&#x27;vectorizer&#x27;, DictVectorizer()),\n",
       "                (&#x27;model&#x27;, CustomRegression(alpha=4.0, min_samples_leaf=10))])</pre><b>In a Jupyter environment, please rerun this cell to show the HTML representation or trust the notebook. <br />On GitHub, the HTML representation is unable to render, please try loading this page with nbviewer.org.</b></div><div class=\"sk-container\" hidden><div class=\"sk-item sk-dashed-wrapped\"><div class=\"sk-label-container\"><div class=\"sk-label sk-toggleable\"><input class=\"sk-toggleable__control sk-hidden--visually\" id=\"sk-estimator-id-17\" type=\"checkbox\" ><label for=\"sk-estimator-id-17\" class=\"sk-toggleable__label sk-toggleable__label-arrow\">Pipeline</label><div class=\"sk-toggleable__content\"><pre>Pipeline(steps=[(&#x27;encoder&#x27;, DictEncoder()), (&#x27;vectorizer&#x27;, DictVectorizer()),\n",
       "                (&#x27;model&#x27;, CustomRegression(alpha=4.0, min_samples_leaf=10))])</pre></div></div></div><div class=\"sk-serial\"><div class=\"sk-item\"><div class=\"sk-estimator sk-toggleable\"><input class=\"sk-toggleable__control sk-hidden--visually\" id=\"sk-estimator-id-18\" type=\"checkbox\" ><label for=\"sk-estimator-id-18\" class=\"sk-toggleable__label sk-toggleable__label-arrow\">DictEncoder</label><div class=\"sk-toggleable__content\"><pre>DictEncoder()</pre></div></div></div><div class=\"sk-item\"><div class=\"sk-estimator sk-toggleable\"><input class=\"sk-toggleable__control sk-hidden--visually\" id=\"sk-estimator-id-19\" type=\"checkbox\" ><label for=\"sk-estimator-id-19\" class=\"sk-toggleable__label sk-toggleable__label-arrow\">DictVectorizer</label><div class=\"sk-toggleable__content\"><pre>DictVectorizer()</pre></div></div></div><div class=\"sk-item\"><div class=\"sk-estimator sk-toggleable\"><input class=\"sk-toggleable__control sk-hidden--visually\" id=\"sk-estimator-id-20\" type=\"checkbox\" ><label for=\"sk-estimator-id-20\" class=\"sk-toggleable__label sk-toggleable__label-arrow\">CustomRegression</label><div class=\"sk-toggleable__content\"><pre>CustomRegression(alpha=4.0, min_samples_leaf=10)</pre></div></div></div></div></div></div></div>"
      ],
      "text/plain": [
       "Pipeline(steps=[('encoder', DictEncoder()), ('vectorizer', DictVectorizer()),\n",
       "                ('model', CustomRegression(alpha=4.0, min_samples_leaf=10))])"
      ]
     },
     "execution_count": 208,
     "metadata": {},
     "output_type": "execute_result"
    }
   ],
   "source": [
    "non_linear_model"
   ]
  },
  {
   "cell_type": "code",
   "execution_count": 158,
   "metadata": {},
   "outputs": [
    {
     "name": "stdout",
     "output_type": "stream",
     "text": [
      "Best parameter (CV score=0.530):\n",
      "{'model__alpha': 4, 'model__learning_rate': 0.001, 'model__n_estimators': 100}\n",
      "CPU times: user 2min 30s, sys: 40.1 s, total: 3min 10s\n",
      "Wall time: 33.8 s\n"
     ]
    }
   ],
   "source": [
    "%%time\n",
    "from sklearn.model_selection import GridSearchCV \n",
    "from sklearn.model_selection import train_test_split \n",
    "\n",
    "df_40 = df.query(\"angle == 40\")\n",
    "df_40 = df_40.sample(frac=1)\n",
    "\n",
    "# param_grid = {'model__alpha' : [4],\n",
    "#               'model__n_estimators' : [10],\n",
    "#               'model__min_samples_leaf': [1, 10, 100]}\n",
    "\n",
    "param_grid = {'model__alpha' : [4],\n",
    "              'model__n_estimators' : [100, 1000, 10_000],\n",
    "              'model__learning_rate': [1E-3, 1E-2, 1E-1]}\n",
    "\n",
    "search = GridSearchCV(boosted_non_linear_model, param_grid, cv=10)\n",
    "search.fit(df_40, label_pipeline.fit_transform(df_40))\n",
    "print(\"Best parameter (CV score=%0.3f):\" % search.best_score_)\n",
    "print(search.best_params_)"
   ]
  },
  {
   "cell_type": "code",
   "execution_count": null,
   "metadata": {},
   "outputs": [],
   "source": [
    "search.cv_results_"
   ]
  },
  {
   "cell_type": "code",
   "execution_count": 260,
   "metadata": {},
   "outputs": [
    {
     "name": "stdout",
     "output_type": "stream",
     "text": [
      "Best parameter (CV score=0.504):\n",
      "{'model__alpha': 4}\n"
     ]
    }
   ],
   "source": [
    "df = df.sample(frac=1)\n",
    "X, y = df, label_pipeline.fit_transform(df)\n",
    "X_train, X_test, y_train, y_test = train_test_split(X, y)\n",
    "\n",
    "linear_params = {'model__alpha' : [4]} # 10 fold cv score = .50 ± .04\n",
    "\n",
    "randomforest_params = {'model__alpha' : [4], # 10 fold cv score = .522; no significant increase\n",
    "              'model__n_estimators' : [100],\n",
    "              'model__min_samples_leaf': [2]}\n",
    "\n",
    "xgb_params = {'model__n_estimators' : [320], # 10 fold cv score = .520; not much better\n",
    "              'model__learning_rate': [.1]}\n",
    "\n",
    "search = GridSearchCV(linear_model, linear_params, cv=10)\n",
    "search.fit(X, y)\n",
    "print(\"Best parameter (CV score=%0.3f):\" % search.best_score_)\n",
    "print(search.best_params_)"
   ]
  },
  {
   "cell_type": "code",
   "execution_count": 257,
   "metadata": {},
   "outputs": [
    {
     "data": {
      "image/png": "[encoded data removed]",
      "text/plain": [
       "<Figure size 640x480 with 1 Axes>"
      ]
     },
     "metadata": {},
     "output_type": "display_data"
    }
   ],
   "source": [
    "def plot_cv_results(gridsearch):\n",
    "    params = [x['model__n_estimators'] for x in gridsearch.cv_results_['params']]\n",
    "    sns.scatterplot(x=params, y=gridsearch.cv_results_['mean_test_score'])\n",
    "\n",
    "plot_cv_results(search)\n"
   ]
  },
  {
   "cell_type": "code",
   "execution_count": 261,
   "metadata": {},
   "outputs": [
    {
     "data": {
      "text/plain": [
       "{'mean_fit_time': array([0.08818626]),\n",
       " 'std_fit_time': array([0.00413121]),\n",
       " 'mean_score_time': array([0.01021595]),\n",
       " 'std_score_time': array([0.00024924]),\n",
       " 'param_model__alpha': masked_array(data=[4],\n",
       "              mask=[False],\n",
       "        fill_value='?',\n",
       "             dtype=object),\n",
       " 'params': [{'model__alpha': 4}],\n",
       " 'split0_test_score': array([0.41308324]),\n",
       " 'split1_test_score': array([0.48673821]),\n",
       " 'split2_test_score': array([0.48654378]),\n",
       " 'split3_test_score': array([0.54903748]),\n",
       " 'split4_test_score': array([0.47005976]),\n",
       " 'split5_test_score': array([0.54181343]),\n",
       " 'split6_test_score': array([0.49649744]),\n",
       " 'split7_test_score': array([0.5037632]),\n",
       " 'split8_test_score': array([0.53330532]),\n",
       " 'split9_test_score': array([0.55504635]),\n",
       " 'mean_test_score': array([0.50358882]),\n",
       " 'std_test_score': array([0.04122851]),\n",
       " 'rank_test_score': array([1], dtype=int32)}"
      ]
     },
     "execution_count": 261,
     "metadata": {},
     "output_type": "execute_result"
    }
   ],
   "source": [
    "search.cv_results_"
   ]
  },
  {
   "cell_type": "code",
   "execution_count": null,
   "metadata": {},
   "outputs": [],
   "source": []
  }
 ],
 "metadata": {
  "kernelspec": {
   "display_name": "base",
   "language": "python",
   "name": "python3"
  },
  "language_info": {
   "codemirror_mode": {
    "name": "ipython",
    "version": 3
   },
   "file_extension": ".py",
   "mimetype": "text/x-python",
   "name": "python",
   "nbconvert_exporter": "python",
   "pygments_lexer": "ipython3",
   "version": "3.9.18"
  }
 },
 "nbformat": 4,
 "nbformat_minor": 2
}
