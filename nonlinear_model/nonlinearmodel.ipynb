{
 "cells": [
  {
   "cell_type": "markdown",
   "metadata": {},
   "source": [
    "# Linear + Non-linear Regression"
   ]
  },
  {
   "cell_type": "markdown",
   "metadata": {},
   "source": [
    "## Imports"
   ]
  },
  {
   "cell_type": "code",
   "execution_count": 130,
   "metadata": {},
   "outputs": [],
   "source": [
    "import numpy as np\n",
    "import pandas as pd \n",
    "import seaborn as sns\n",
    "sns.set_style('darkgrid')\n",
    "import sklearn"
   ]
  },
  {
   "cell_type": "code",
   "execution_count": 131,
   "metadata": {},
   "outputs": [
    {
     "data": {
      "text/html": [
       "<div>\n",
       "<style scoped>\n",
       "    .dataframe tbody tr th:only-of-type {\n",
       "        vertical-align: middle;\n",
       "    }\n",
       "\n",
       "    .dataframe tbody tr th {\n",
       "        vertical-align: top;\n",
       "    }\n",
       "\n",
       "    .dataframe thead th {\n",
       "        text-align: right;\n",
       "    }\n",
       "</style>\n",
       "<table border=\"1\" class=\"dataframe\">\n",
       "  <thead>\n",
       "    <tr style=\"text-align: right;\">\n",
       "      <th></th>\n",
       "      <th>holds</th>\n",
       "      <th>grades</th>\n",
       "      <th>year</th>\n",
       "      <th>angle</th>\n",
       "    </tr>\n",
       "  </thead>\n",
       "  <tbody>\n",
       "    <tr>\n",
       "      <th>0</th>\n",
       "      <td>[('A18', 'end'), ('C10', 'hold'), ('D15', 'hol...</td>\n",
       "      <td>7B</td>\n",
       "      <td>2016</td>\n",
       "      <td>40</td>\n",
       "    </tr>\n",
       "    <tr>\n",
       "      <th>1</th>\n",
       "      <td>[('E18', 'end'), ('F13', 'hold'), ('G6', 'star...</td>\n",
       "      <td>7B</td>\n",
       "      <td>2016</td>\n",
       "      <td>40</td>\n",
       "    </tr>\n",
       "    <tr>\n",
       "      <th>2</th>\n",
       "      <td>[('E18', 'end'), ('F14', 'hold'), ('F9', 'hold...</td>\n",
       "      <td>7B</td>\n",
       "      <td>2016</td>\n",
       "      <td>40</td>\n",
       "    </tr>\n",
       "    <tr>\n",
       "      <th>3</th>\n",
       "      <td>[('B3', 'start'), ('E10', 'hold'), ('F7', 'hol...</td>\n",
       "      <td>7B</td>\n",
       "      <td>2016</td>\n",
       "      <td>40</td>\n",
       "    </tr>\n",
       "    <tr>\n",
       "      <th>4</th>\n",
       "      <td>[('D10', 'hold'), ('H18', 'end'), ('H14', 'hol...</td>\n",
       "      <td>7B</td>\n",
       "      <td>2016</td>\n",
       "      <td>40</td>\n",
       "    </tr>\n",
       "  </tbody>\n",
       "</table>\n",
       "</div>"
      ],
      "text/plain": [
       "                                               holds grades  year  angle\n",
       "0  [('A18', 'end'), ('C10', 'hold'), ('D15', 'hol...     7B  2016     40\n",
       "1  [('E18', 'end'), ('F13', 'hold'), ('G6', 'star...     7B  2016     40\n",
       "2  [('E18', 'end'), ('F14', 'hold'), ('F9', 'hold...     7B  2016     40\n",
       "3  [('B3', 'start'), ('E10', 'hold'), ('F7', 'hol...     7B  2016     40\n",
       "4  [('D10', 'hold'), ('H18', 'end'), ('H14', 'hol...     7B  2016     40"
      ]
     },
     "execution_count": 131,
     "metadata": {},
     "output_type": "execute_result"
    }
   ],
   "source": [
    "df = pd.read_csv('../webscraping/moonboard_data.csv', index_col=0)\n",
    "df = df.dropna()\n",
    "df = df.query(\"angle == 40\")\n",
    "df.head()"
   ]
  },
  {
   "cell_type": "code",
   "execution_count": 132,
   "metadata": {},
   "outputs": [
    {
     "data": {
      "text/plain": [
       "<Axes: xlabel='grades', ylabel='Count'>"
      ]
     },
     "execution_count": 132,
     "metadata": {},
     "output_type": "execute_result"
    },
    {
     "data": {
      "image/png": "[encoded data removed]",
      "text/plain": [
       "<Figure size 640x480 with 1 Axes>"
      ]
     },
     "metadata": {},
     "output_type": "display_data"
    }
   ],
   "source": [
    "sns.histplot(data=df.sort_values('grades'), x='grades')"
   ]
  },
  {
   "cell_type": "markdown",
   "metadata": {},
   "source": [
    "## Encoding holds as dictionary\n",
    "Here we create a custom transformer which:\n",
    "- drops null values from the `DataFrame`\n",
    "- parses the string of holds into a list of holds\n",
    "- encodes holds as a dictionary we can pass to `DictVectorizer`"
   ]
  },
  {
   "cell_type": "code",
   "execution_count": 133,
   "metadata": {},
   "outputs": [],
   "source": [
    "from sklearn.base import BaseEstimator\n",
    "from sklearn.base import TransformerMixin \n",
    "from typing import List\n",
    "\n",
    "class DictEncoder(BaseEstimator, TransformerMixin):\n",
    "    def fit(self, X: pd.DataFrame, y=None):\n",
    "        return self\n",
    "    \n",
    "    def parseList(self, holdlist: List[str]):\n",
    "        \"\"\" Parses a list of holds into a dicionary of the form {hold : 1} \"\"\"\n",
    "        return {hold : 1 for hold, color in holdlist}\n",
    "    \n",
    "    def transform(self, X: pd.DataFrame):\n",
    "        \"\"\"\n",
    "        Encodes a list of holds into a dictionary of key, value pairs where\n",
    "        each key is a hold of the form [column index A-K][row index 1-18]\n",
    "        and each value is 1\n",
    "        \"\"\"\n",
    "        X = X.dropna() # first drop missing values (problem no longer exists)\n",
    "        X['holds'] = X['holds'].apply(lambda holdlist: self.parseList(eval(holdlist))) # parse strings to list of holds\n",
    "        return X['holds']"
   ]
  },
  {
   "cell_type": "code",
   "execution_count": 134,
   "metadata": {},
   "outputs": [],
   "source": [
    "from numpy import ndarray\n",
    "from sklearn.base import BaseEstimator \n",
    "from sklearn.base import TransformerMixin \n",
    "\n",
    "class LabelEncoder(BaseEstimator, TransformerMixin):\n",
    "    def fit(self, X: pd.DataFrame, y=None):\n",
    "        return self\n",
    "    \n",
    "    def grade_to_number(self, grade: str) -> int:\n",
    "        \"\"\" Maps a route's grade to an integer \"\"\"\n",
    "        grade_dict = {\n",
    "            '5+' : 0,\n",
    "            '6A' : 1,\n",
    "            '6A+' : 2,\n",
    "            '6B' : 3,\n",
    "            '6B+' : 4,\n",
    "            '6C' : 5,\n",
    "            '6C+' : 6,\n",
    "            '7A' : 7,\n",
    "            '7A+' : 8,\n",
    "            '7B' : 9,\n",
    "            '7B+' : 10,\n",
    "            '7C' : 11,\n",
    "            '7C+' : 12,\n",
    "            '8A' : 13,\n",
    "            '8A+' : 14,\n",
    "            '8B' : 15,\n",
    "            '8B+' : 16,\n",
    "            '8C' : 17,\n",
    "            '8C+' : 18\n",
    "        }\n",
    "        if grade not in grade_dict:\n",
    "            raise Exception(f\"Invalid Grade! {grade}\")\n",
    "        else:\n",
    "            return grade_dict[grade]\n",
    "    \n",
    "    def transform(self, X: pd.DataFrame):\n",
    "        \"\"\" Maps the `grades` column of a `DataFrame` to its numeric value (to be scaled) \"\"\"\n",
    "        X = X.dropna()\n",
    "        X['grades_numeric'] = X['grades'].apply(self.grade_to_number) # parse grades to numeric value\n",
    "        return X[['grades_numeric']]"
   ]
  },
  {
   "cell_type": "markdown",
   "metadata": {},
   "source": [
    "## Custom Linear + Non-linear regression"
   ]
  },
  {
   "cell_type": "code",
   "execution_count": 135,
   "metadata": {},
   "outputs": [],
   "source": [
    "from sklearn.linear_model import Ridge \n",
    "from sklearn.ensemble import RandomForestRegressor\n",
    "from sklearn.base import BaseEstimator\n",
    "from sklearn.base import TransformerMixin \n",
    "from sklearn.metrics import r2_score\n",
    "\n",
    "class CustomRegression(BaseEstimator, TransformerMixin):\n",
    "    def __init__(self, alpha: float = 1., n_estimators: int = 100, min_samples_leaf: int = 2) -> None:\n",
    "        # Linear and nonlinear models\n",
    "        self.alpha = alpha\n",
    "        self.n_estimators = n_estimators\n",
    "        self.min_samples_leaf = min_samples_leaf\n",
    "        self.lm = Ridge(alpha = self.alpha)\n",
    "        self.nlm = RandomForestRegressor(n_estimators=self.n_estimators, min_samples_leaf=self.min_samples_leaf)\n",
    "        return \n",
    "        \n",
    "    def fit(self, X, y):\n",
    "        \"\"\"\n",
    "        Fits y to X with a linear model, then fits the residuals of y with a nonlinear model\n",
    "        \"\"\"\n",
    "        y = np.ravel(y)\n",
    "        self.lm.fit(X, y)\n",
    "        residuals = y - self.lm.predict(X) # subtract off prediction to get residuals\n",
    "        self.nlm.fit(X, residuals)\n",
    "        return self\n",
    "    \n",
    "    def predict(self, X):\n",
    "        linear_result = np.reshape(self.lm.predict(X), (-1, 1))\n",
    "        non_linear_result = np.reshape(self.nlm.predict(X), (-1, 1))\n",
    "        self.preds = linear_result + non_linear_result\n",
    "        return self.preds\n",
    "    \n",
    "    def score(self, X, y):\n",
    "        self.preds = self.predict(X)\n",
    "        return r2_score(y, self.preds)"
   ]
  },
  {
   "cell_type": "markdown",
   "metadata": {},
   "source": [
    "## Vectorize features using `DictVectorizer`"
   ]
  },
  {
   "cell_type": "markdown",
   "metadata": {},
   "source": [
    "## Build `Pipeline` to vectorize holds as feature matrix\n",
    "\n",
    "We'll also try `Ridge` regression on the features to figure out how good the model is"
   ]
  },
  {
   "cell_type": "code",
   "execution_count": 136,
   "metadata": {},
   "outputs": [],
   "source": [
    "from sklearn.preprocessing import StandardScaler\n",
    "from sklearn.pipeline import Pipeline \n",
    "from sklearn.feature_extraction import DictVectorizer\n",
    "from sklearn.linear_model import Ridge\n",
    "\n",
    "label_pipeline = Pipeline([\n",
    "    ('encoder', LabelEncoder()),\n",
    "    ('scaler', StandardScaler())\n",
    "])\n",
    "\n",
    "non_linear_model = Pipeline([\n",
    "    ('encoder', DictEncoder()),\n",
    "    ('vectorizer', DictVectorizer()),\n",
    "    ('model', CustomRegression())\n",
    "])"
   ]
  },
  {
   "cell_type": "markdown",
   "metadata": {},
   "source": [
    "## Grid Search: Tuning `non_linear_model` hyperparameters"
   ]
  },
  {
   "cell_type": "code",
   "execution_count": 137,
   "metadata": {},
   "outputs": [
    {
     "name": "stdout",
     "output_type": "stream",
     "text": [
      "Best parameter (CV score=0.526):\n",
      "{'model__alpha': 4, 'model__min_samples_leaf': 100, 'model__n_estimators': 10}\n"
     ]
    }
   ],
   "source": [
    "from sklearn.model_selection import GridSearchCV \n",
    "from sklearn.model_selection import train_test_split \n",
    "\n",
    "df_40 = df.query(\"angle == 40\")\n",
    "df_40 = df_40.sample(frac=1)\n",
    "\n",
    "param_grid = {'model__alpha' : [4],\n",
    "              'model__n_estimators' : [10],\n",
    "              'model__min_samples_leaf': [1, 10, 100]}\n",
    "\n",
    "search = GridSearchCV(non_linear_model, param_grid, cv=3)\n",
    "search.fit(df_40, label_pipeline.fit_transform(df_40))\n",
    "print(\"Best parameter (CV score=%0.3f):\" % search.best_score_)\n",
    "print(search.best_params_)"
   ]
  },
  {
   "cell_type": "code",
   "execution_count": 138,
   "metadata": {},
   "outputs": [
    {
     "data": {
      "text/plain": [
       "{'mean_fit_time': array([1.25683037, 1.23504806, 1.23117924]),\n",
       " 'std_fit_time': array([0.00291861, 0.0108063 , 0.00773262]),\n",
       " 'mean_score_time': array([0.04746707, 0.04666503, 0.04645848]),\n",
       " 'std_score_time': array([0.00048451, 0.00074517, 0.00033188]),\n",
       " 'param_model__alpha': masked_array(data=[4, 4, 4],\n",
       "              mask=[False, False, False],\n",
       "        fill_value='?',\n",
       "             dtype=object),\n",
       " 'param_model__min_samples_leaf': masked_array(data=[1, 10, 100],\n",
       "              mask=[False, False, False],\n",
       "        fill_value='?',\n",
       "             dtype=object),\n",
       " 'param_model__n_estimators': masked_array(data=[10, 10, 10],\n",
       "              mask=[False, False, False],\n",
       "        fill_value='?',\n",
       "             dtype=object),\n",
       " 'params': [{'model__alpha': 4,\n",
       "   'model__min_samples_leaf': 1,\n",
       "   'model__n_estimators': 10},\n",
       "  {'model__alpha': 4,\n",
       "   'model__min_samples_leaf': 10,\n",
       "   'model__n_estimators': 10},\n",
       "  {'model__alpha': 4,\n",
       "   'model__min_samples_leaf': 100,\n",
       "   'model__n_estimators': 10}],\n",
       " 'split0_test_score': array([0.54089231, 0.54731392, 0.5409946 ]),\n",
       " 'split1_test_score': array([0.50898729, 0.50245776, 0.51196121]),\n",
       " 'split2_test_score': array([0.51955159, 0.51851615, 0.52401127]),\n",
       " 'mean_test_score': array([0.52314373, 0.52276261, 0.52565569]),\n",
       " 'std_test_score': array([0.01327052, 0.01855699, 0.01190973]),\n",
       " 'rank_test_score': array([2, 3, 1], dtype=int32)}"
      ]
     },
     "execution_count": 138,
     "metadata": {},
     "output_type": "execute_result"
    }
   ],
   "source": [
    "search.cv_results_"
   ]
  },
  {
   "cell_type": "code",
   "execution_count": 139,
   "metadata": {},
   "outputs": [
    {
     "data": {
      "image/png": "[encoded data removed]",
      "text/plain": [
       "<Figure size 640x480 with 1 Axes>"
      ]
     },
     "metadata": {},
     "output_type": "display_data"
    }
   ],
   "source": [
    "def plot_cv_results(gridsearch):\n",
    "    params = [x['model__min_samples_leaf'] for x in gridsearch.cv_results_['params']]\n",
    "    sns.scatterplot(x=params, y=gridsearch.cv_results_['mean_test_score'])\n",
    "\n",
    "plot_cv_results(search)\n"
   ]
  },
  {
   "cell_type": "code",
   "execution_count": 140,
   "metadata": {},
   "outputs": [
    {
     "data": {
      "text/plain": [
       "0.5319460155468444"
      ]
     },
     "execution_count": 140,
     "metadata": {},
     "output_type": "execute_result"
    }
   ],
   "source": [
    "X, y = df, label_pipeline.fit_transform(df)\n",
    "X_train, X_test, y_train, y_test = train_test_split(X, y)\n",
    "non_linear_model.fit(X_train, y_train)\n",
    "non_linear_model.score(X_test, y_test)"
   ]
  }
 ],
 "metadata": {
  "kernelspec": {
   "display_name": "base",
   "language": "python",
   "name": "python3"
  },
  "language_info": {
   "codemirror_mode": {
    "name": "ipython",
    "version": 3
   },
   "file_extension": ".py",
   "mimetype": "text/x-python",
   "name": "python",
   "nbconvert_exporter": "python",
   "pygments_lexer": "ipython3",
   "version": "3.9.18"
  }
 },
 "nbformat": 4,
 "nbformat_minor": 2
}
